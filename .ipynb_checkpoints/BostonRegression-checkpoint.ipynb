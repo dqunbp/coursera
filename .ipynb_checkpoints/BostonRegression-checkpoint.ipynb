{
 "cells": [
  {
   "cell_type": "code",
   "execution_count": 1,
   "metadata": {
    "collapsed": true
   },
   "outputs": [],
   "source": [
    "import sklearn as sk"
   ]
  },
  {
   "cell_type": "code",
   "execution_count": 23,
   "metadata": {
    "collapsed": true
   },
   "outputs": [],
   "source": [
    "from sklearn.grid_search import GridSearchCV as gs"
   ]
  },
  {
   "cell_type": "code",
   "execution_count": 7,
   "metadata": {
    "collapsed": true
   },
   "outputs": [],
   "source": [
    "from sklearn import datasets"
   ]
  },
  {
   "cell_type": "code",
   "execution_count": 16,
   "metadata": {
    "collapsed": true
   },
   "outputs": [],
   "source": [
    "import numpy as np"
   ]
  },
  {
   "cell_type": "code",
   "execution_count": 32,
   "metadata": {
    "collapsed": true
   },
   "outputs": [],
   "source": [
    "from sklearn import neighbors as nb"
   ]
  },
  {
   "cell_type": "code",
   "execution_count": 9,
   "metadata": {
    "collapsed": true
   },
   "outputs": [],
   "source": [
    "data=sk.datasets.load_boston()"
   ]
  },
  {
   "cell_type": "code",
   "execution_count": 13,
   "metadata": {
    "collapsed": true
   },
   "outputs": [],
   "source": [
    "X = sk.preprocessing.scale(data.data)"
   ]
  },
  {
   "cell_type": "code",
   "execution_count": 30,
   "metadata": {
    "collapsed": false
   },
   "outputs": [],
   "source": [
    "g = sk.cross_validation.KFold(len(data.target),shuffle=True, random_state=42, n_folds=5)"
   ]
  },
  {
   "cell_type": "code",
   "execution_count": 81,
   "metadata": {
    "collapsed": false
   },
   "outputs": [],
   "source": [
    "params = {'n_neighbors': [2,3,4,7],'n_jobs':[-1] , 'weights': ['distance'], 'p': list(np.linspace(1,3,num=10))}"
   ]
  },
  {
   "cell_type": "code",
   "execution_count": 90,
   "metadata": {
    "collapsed": false
   },
   "outputs": [],
   "source": [
    "params = {'n_neighbors': list(range(1,21)),'n_jobs':[-1] , 'weights': ['distance'], 'p': [1]}"
   ]
  },
  {
   "cell_type": "code",
   "execution_count": 91,
   "metadata": {
    "collapsed": false
   },
   "outputs": [],
   "source": [
    "grid = gs(nb.KNeighborsRegressor(), params, cv=g, scoring='mean_squared_error')"
   ]
  },
  {
   "cell_type": "code",
   "execution_count": 92,
   "metadata": {
    "collapsed": true
   },
   "outputs": [
    {
     "data": {
      "text/plain": [
       "GridSearchCV(cv=sklearn.cross_validation.KFold(n=506, n_folds=5, shuffle=True, random_state=42),\n",
       "       error_score='raise',\n",
       "       estimator=KNeighborsRegressor(algorithm='auto', leaf_size=30, metric='minkowski',\n",
       "          metric_params=None, n_jobs=1, n_neighbors=5, p=2,\n",
       "          weights='uniform'),\n",
       "       fit_params={}, iid=True, n_jobs=1,\n",
       "       param_grid={'n_neighbors': [1, 2, 3, 4, 5, 6, 7, 8, 9, 10, 11, 12, 13, 14, 15, 16, 17, 18, 19, 20], 'n_jobs': [-1], 'weights': ['distance'], 'p': [1]},\n",
       "       pre_dispatch='2*n_jobs', refit=True, scoring='mean_squared_error',\n",
       "       verbose=0)"
      ]
     },
     "execution_count": 92,
     "metadata": {},
     "output_type": "execute_result"
    }
   ],
   "source": [
    "grid.fit(X,data.target)"
   ]
  },
  {
   "cell_type": "code",
   "execution_count": 93,
   "metadata": {
    "collapsed": false
   },
   "outputs": [
    {
     "data": {
      "text/plain": [
       "{'n_jobs': -1, 'n_neighbors': 4, 'p': 1, 'weights': 'distance'}"
      ]
     },
     "execution_count": 93,
     "metadata": {},
     "output_type": "execute_result"
    }
   ],
   "source": [
    "grid.best_params_"
   ]
  },
  {
   "cell_type": "code",
   "execution_count": 95,
   "metadata": {
    "collapsed": false,
    "scrolled": false
   },
   "outputs": [
    {
     "data": {
      "text/plain": [
       "-15.873615709496953"
      ]
     },
     "execution_count": 95,
     "metadata": {},
     "output_type": "execute_result"
    }
   ],
   "source": [
    "grid.best_score_"
   ]
  },
  {
   "cell_type": "code",
   "execution_count": 94,
   "metadata": {
    "collapsed": true
   },
   "outputs": [
    {
     "data": {
      "text/plain": [
       "[mean: -19.53101, std: 4.59049, params: {'n_neighbors': 1, 'n_jobs': -1, 'weights': 'distance', 'p': 1},\n",
       " mean: -17.76509, std: 4.62401, params: {'n_neighbors': 2, 'n_jobs': -1, 'weights': 'distance', 'p': 1},\n",
       " mean: -15.91898, std: 3.98473, params: {'n_neighbors': 3, 'n_jobs': -1, 'weights': 'distance', 'p': 1},\n",
       " mean: -15.87362, std: 3.33579, params: {'n_neighbors': 4, 'n_jobs': -1, 'weights': 'distance', 'p': 1},\n",
       " mean: -16.05861, std: 3.30962, params: {'n_neighbors': 5, 'n_jobs': -1, 'weights': 'distance', 'p': 1},\n",
       " mean: -16.32031, std: 2.90645, params: {'n_neighbors': 6, 'n_jobs': -1, 'weights': 'distance', 'p': 1},\n",
       " mean: -16.91248, std: 2.78076, params: {'n_neighbors': 7, 'n_jobs': -1, 'weights': 'distance', 'p': 1},\n",
       " mean: -17.67752, std: 2.54895, params: {'n_neighbors': 8, 'n_jobs': -1, 'weights': 'distance', 'p': 1},\n",
       " mean: -18.31620, std: 2.26979, params: {'n_neighbors': 9, 'n_jobs': -1, 'weights': 'distance', 'p': 1},\n",
       " mean: -18.83725, std: 2.25094, params: {'n_neighbors': 10, 'n_jobs': -1, 'weights': 'distance', 'p': 1},\n",
       " mean: -19.50029, std: 2.36778, params: {'n_neighbors': 11, 'n_jobs': -1, 'weights': 'distance', 'p': 1},\n",
       " mean: -19.85640, std: 2.29843, params: {'n_neighbors': 12, 'n_jobs': -1, 'weights': 'distance', 'p': 1},\n",
       " mean: -20.21693, std: 2.18456, params: {'n_neighbors': 13, 'n_jobs': -1, 'weights': 'distance', 'p': 1},\n",
       " mean: -20.74460, std: 2.37286, params: {'n_neighbors': 14, 'n_jobs': -1, 'weights': 'distance', 'p': 1},\n",
       " mean: -21.11492, std: 2.25611, params: {'n_neighbors': 15, 'n_jobs': -1, 'weights': 'distance', 'p': 1},\n",
       " mean: -21.64978, std: 2.39653, params: {'n_neighbors': 16, 'n_jobs': -1, 'weights': 'distance', 'p': 1},\n",
       " mean: -21.78389, std: 2.52923, params: {'n_neighbors': 17, 'n_jobs': -1, 'weights': 'distance', 'p': 1},\n",
       " mean: -22.01656, std: 2.50094, params: {'n_neighbors': 18, 'n_jobs': -1, 'weights': 'distance', 'p': 1},\n",
       " mean: -22.42859, std: 2.60648, params: {'n_neighbors': 19, 'n_jobs': -1, 'weights': 'distance', 'p': 1},\n",
       " mean: -22.72798, std: 2.55913, params: {'n_neighbors': 20, 'n_jobs': -1, 'weights': 'distance', 'p': 1}]"
      ]
     },
     "execution_count": 94,
     "metadata": {},
     "output_type": "execute_result"
    }
   ],
   "source": [
    "grid.grid_scores_"
   ]
  }
 ],
 "metadata": {
  "kernelspec": {
   "display_name": "Python 2",
   "language": "python",
   "name": "python2"
  },
  "language_info": {
   "codemirror_mode": {
    "name": "ipython",
    "version": 2
   },
   "file_extension": ".py",
   "mimetype": "text/x-python",
   "name": "python",
   "nbconvert_exporter": "python",
   "pygments_lexer": "ipython2",
   "version": "2.7.11"
  }
 },
 "nbformat": 4,
 "nbformat_minor": 0
}
