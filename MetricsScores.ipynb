{
 "cells": [
  {
   "cell_type": "code",
   "execution_count": 35,
   "metadata": {
    "collapsed": true
   },
   "outputs": [],
   "source": [
    "from sklearn import metrics\n",
    "\n",
    "import pandas as pd\n",
    "import math\n",
    "import numpy as np"
   ]
  },
  {
   "cell_type": "code",
   "execution_count": 171,
   "metadata": {
    "collapsed": true
   },
   "outputs": [],
   "source": [
    "data = pd.read_csv('C:/Users/2/Downloads/_classification.csv')"
   ]
  },
  {
   "cell_type": "markdown",
   "metadata": {},
   "source": [
    "###### опреляем TP, FP, FN и TN"
   ]
  },
  {
   "cell_type": "code",
   "execution_count": 17,
   "metadata": {
    "collapsed": false
   },
   "outputs": [
    {
     "data": {
      "text/plain": [
       "true  pred  true\n",
       "0     0     0       64\n",
       "      1     0       34\n",
       "1     0     1       59\n",
       "      1     1       43\n",
       "dtype: int64"
      ]
     },
     "execution_count": 17,
     "metadata": {},
     "output_type": "execute_result"
    }
   ],
   "source": [
    "data.groupby(['true','pred'])['true'].value_counts()"
   ]
  },
  {
   "cell_type": "markdown",
   "metadata": {},
   "source": [
    "###### считаем качество различными методами"
   ]
  },
  {
   "cell_type": "code",
   "execution_count": 172,
   "metadata": {
    "collapsed": false
   },
   "outputs": [
    {
     "data": {
      "text/plain": [
       "0.53500000000000003"
      ]
     },
     "execution_count": 172,
     "metadata": {},
     "output_type": "execute_result"
    }
   ],
   "source": [
    "metrics.accuracy_score(data.true,data.pred)"
   ]
  },
  {
   "cell_type": "code",
   "execution_count": 173,
   "metadata": {
    "collapsed": false
   },
   "outputs": [
    {
     "data": {
      "text/plain": [
       "0.55844155844155841"
      ]
     },
     "execution_count": 173,
     "metadata": {},
     "output_type": "execute_result"
    }
   ],
   "source": [
    "metrics.precision_score(data.true,data.pred)"
   ]
  },
  {
   "cell_type": "code",
   "execution_count": 174,
   "metadata": {
    "collapsed": false
   },
   "outputs": [
    {
     "data": {
      "text/plain": [
       "0.42156862745098039"
      ]
     },
     "execution_count": 174,
     "metadata": {},
     "output_type": "execute_result"
    }
   ],
   "source": [
    "metrics.recall_score(data.true,data.pred)"
   ]
  },
  {
   "cell_type": "code",
   "execution_count": 175,
   "metadata": {
    "collapsed": false
   },
   "outputs": [
    {
     "data": {
      "text/plain": [
       "0.48044692737430167"
      ]
     },
     "execution_count": 175,
     "metadata": {},
     "output_type": "execute_result"
    }
   ],
   "source": [
    "metrics.f1_score(data.true,data.pred)"
   ]
  },
  {
   "cell_type": "markdown",
   "metadata": {},
   "source": [
    "###### грузим новые данные,- оценки вероятности классов, различными классификаторами"
   ]
  },
  {
   "cell_type": "code",
   "execution_count": 3,
   "metadata": {
    "collapsed": true
   },
   "outputs": [],
   "source": [
    "data = pd.read_csv('C:/Users/2/Downloads/_scores.csv')"
   ]
  },
  {
   "cell_type": "code",
   "execution_count": 18,
   "metadata": {
    "collapsed": false
   },
   "outputs": [
    {
     "data": {
      "text/html": [
       "<div>\n",
       "<table border=\"1\" class=\"dataframe\">\n",
       "  <thead>\n",
       "    <tr style=\"text-align: right;\">\n",
       "      <th></th>\n",
       "      <th>score_logreg</th>\n",
       "      <th>score_svm</th>\n",
       "      <th>score_knn</th>\n",
       "      <th>score_tree</th>\n",
       "    </tr>\n",
       "    <tr>\n",
       "      <th>true</th>\n",
       "      <th></th>\n",
       "      <th></th>\n",
       "      <th></th>\n",
       "      <th></th>\n",
       "    </tr>\n",
       "  </thead>\n",
       "  <tbody>\n",
       "    <tr>\n",
       "      <th>0</th>\n",
       "      <td>0.444947</td>\n",
       "      <td>-0.197439</td>\n",
       "      <td>0.419688</td>\n",
       "      <td>0.404281</td>\n",
       "    </tr>\n",
       "    <tr>\n",
       "      <th>1</th>\n",
       "      <td>0.636953</td>\n",
       "      <td>0.079526</td>\n",
       "      <td>0.600825</td>\n",
       "      <td>0.619690</td>\n",
       "    </tr>\n",
       "  </tbody>\n",
       "</table>\n",
       "</div>"
      ],
      "text/plain": [
       "      score_logreg  score_svm  score_knn  score_tree\n",
       "true                                                \n",
       "0         0.444947  -0.197439   0.419688    0.404281\n",
       "1         0.636953   0.079526   0.600825    0.619690"
      ]
     },
     "execution_count": 18,
     "metadata": {},
     "output_type": "execute_result"
    }
   ],
   "source": [
    "data.groupby(['true']).mean()"
   ]
  },
  {
   "cell_type": "markdown",
   "metadata": {},
   "source": [
    "###### для них так же считаем качество "
   ]
  },
  {
   "cell_type": "code",
   "execution_count": 19,
   "metadata": {
    "collapsed": false
   },
   "outputs": [
    {
     "data": {
      "text/plain": [
       "0.71918767507002801"
      ]
     },
     "execution_count": 19,
     "metadata": {},
     "output_type": "execute_result"
    }
   ],
   "source": [
    "metrics.roc_auc_score(data.true,data.score_logreg)"
   ]
  },
  {
   "cell_type": "code",
   "execution_count": 20,
   "metadata": {
    "collapsed": false
   },
   "outputs": [
    {
     "data": {
      "text/plain": [
       "0.70868347338935567"
      ]
     },
     "execution_count": 20,
     "metadata": {},
     "output_type": "execute_result"
    }
   ],
   "source": [
    "metrics.roc_auc_score(data.true,data.score_svm)"
   ]
  },
  {
   "cell_type": "code",
   "execution_count": 21,
   "metadata": {
    "collapsed": false
   },
   "outputs": [
    {
     "data": {
      "text/plain": [
       "0.63515406162464982"
      ]
     },
     "execution_count": 21,
     "metadata": {},
     "output_type": "execute_result"
    }
   ],
   "source": [
    "metrics.roc_auc_score(data.true,data.score_knn)"
   ]
  },
  {
   "cell_type": "code",
   "execution_count": 22,
   "metadata": {
    "collapsed": false
   },
   "outputs": [
    {
     "data": {
      "text/plain": [
       "0.69192677070828335"
      ]
     },
     "execution_count": 22,
     "metadata": {},
     "output_type": "execute_result"
    }
   ],
   "source": [
    "metrics.roc_auc_score(data.true,data.score_tree)"
   ]
  },
  {
   "cell_type": "markdown",
   "metadata": {},
   "source": [
    "###### на примере 1го классификатора находим максимальную точность при полноте не менее 70% "
   ]
  },
  {
   "cell_type": "code",
   "execution_count": 73,
   "metadata": {
    "collapsed": false
   },
   "outputs": [],
   "source": [
    "a=metrics.precision_recall_curve(data.true,data.score_logreg)"
   ]
  },
  {
   "cell_type": "code",
   "execution_count": 100,
   "metadata": {
    "collapsed": true
   },
   "outputs": [
    {
     "data": {
      "text/plain": [
       "array([[ 0.49746193,  1.        ],\n",
       "       [ 0.49489796,  0.98979592],\n",
       "       [ 0.49230769,  0.97959184],\n",
       "       [ 0.49484536,  0.97959184],\n",
       "       [ 0.49740933,  0.97959184],\n",
       "       [ 0.49479167,  0.96938776],\n",
       "       [ 0.4973822 ,  0.96938776],\n",
       "       [ 0.49473684,  0.95918367],\n",
       "       [ 0.4973545 ,  0.95918367],\n",
       "       [ 0.5       ,  0.95918367],\n",
       "       [ 0.5026738 ,  0.95918367],\n",
       "       [ 0.5       ,  0.94897959],\n",
       "       [ 0.4972973 ,  0.93877551],\n",
       "       [ 0.5       ,  0.93877551],\n",
       "       [ 0.50273224,  0.93877551],\n",
       "       [ 0.50549451,  0.93877551],\n",
       "       [ 0.50828729,  0.93877551],\n",
       "       [ 0.51111111,  0.93877551],\n",
       "       [ 0.51396648,  0.93877551],\n",
       "       [ 0.51685393,  0.93877551],\n",
       "       [ 0.51977401,  0.93877551],\n",
       "       [ 0.52272727,  0.93877551],\n",
       "       [ 0.52571429,  0.93877551],\n",
       "       [ 0.52873563,  0.93877551],\n",
       "       [ 0.53179191,  0.93877551],\n",
       "       [ 0.53488372,  0.93877551],\n",
       "       [ 0.5380117 ,  0.93877551],\n",
       "       [ 0.53529412,  0.92857143],\n",
       "       [ 0.53846154,  0.92857143],\n",
       "       [ 0.54166667,  0.92857143],\n",
       "       [ 0.54491018,  0.92857143],\n",
       "       [ 0.54819277,  0.92857143],\n",
       "       [ 0.55151515,  0.92857143],\n",
       "       [ 0.54878049,  0.91836735],\n",
       "       [ 0.55214724,  0.91836735],\n",
       "       [ 0.54938272,  0.90816327],\n",
       "       [ 0.55279503,  0.90816327],\n",
       "       [ 0.55625   ,  0.90816327],\n",
       "       [ 0.55974843,  0.90816327],\n",
       "       [ 0.55696203,  0.89795918],\n",
       "       [ 0.56050955,  0.89795918],\n",
       "       [ 0.56410256,  0.89795918],\n",
       "       [ 0.56129032,  0.8877551 ],\n",
       "       [ 0.56493506,  0.8877551 ],\n",
       "       [ 0.56862745,  0.8877551 ],\n",
       "       [ 0.56578947,  0.87755102],\n",
       "       [ 0.56953642,  0.87755102],\n",
       "       [ 0.56666667,  0.86734694],\n",
       "       [ 0.5704698 ,  0.86734694],\n",
       "       [ 0.57432432,  0.86734694],\n",
       "       [ 0.57142857,  0.85714286],\n",
       "       [ 0.57534247,  0.85714286],\n",
       "       [ 0.57241379,  0.84693878],\n",
       "       [ 0.57638889,  0.84693878],\n",
       "       [ 0.58041958,  0.84693878],\n",
       "       [ 0.58450704,  0.84693878],\n",
       "       [ 0.58156028,  0.83673469],\n",
       "       [ 0.58571429,  0.83673469],\n",
       "       [ 0.58992806,  0.83673469],\n",
       "       [ 0.58695652,  0.82653061],\n",
       "       [ 0.59124088,  0.82653061],\n",
       "       [ 0.59558824,  0.82653061],\n",
       "       [ 0.6       ,  0.82653061],\n",
       "       [ 0.59701493,  0.81632653],\n",
       "       [ 0.60150376,  0.81632653],\n",
       "       [ 0.60606061,  0.81632653],\n",
       "       [ 0.60305344,  0.80612245],\n",
       "       [ 0.6       ,  0.79591837],\n",
       "       [ 0.60465116,  0.79591837],\n",
       "       [ 0.609375  ,  0.79591837],\n",
       "       [ 0.61417323,  0.79591837],\n",
       "       [ 0.61111111,  0.78571429],\n",
       "       [ 0.616     ,  0.78571429],\n",
       "       [ 0.62096774,  0.78571429],\n",
       "       [ 0.62601626,  0.78571429],\n",
       "       [ 0.62295082,  0.7755102 ],\n",
       "       [ 0.61983471,  0.76530612],\n",
       "       [ 0.625     ,  0.76530612],\n",
       "       [ 0.6302521 ,  0.76530612],\n",
       "       [ 0.62711864,  0.75510204],\n",
       "       [ 0.62393162,  0.74489796],\n",
       "       [ 0.62068966,  0.73469388],\n",
       "       [ 0.62608696,  0.73469388],\n",
       "       [ 0.62280702,  0.7244898 ],\n",
       "       [ 0.61946903,  0.71428571],\n",
       "       [ 0.61607143,  0.70408163],\n",
       "       [ 0.61261261,  0.69387755],\n",
       "       [ 0.60909091,  0.68367347],\n",
       "       [ 0.6146789 ,  0.68367347],\n",
       "       [ 0.62037037,  0.68367347],\n",
       "       [ 0.61682243,  0.67346939],\n",
       "       [ 0.62264151,  0.67346939],\n",
       "       [ 0.62857143,  0.67346939],\n",
       "       [ 0.625     ,  0.66326531],\n",
       "       [ 0.63106796,  0.66326531],\n",
       "       [ 0.62745098,  0.65306122],\n",
       "       [ 0.62376238,  0.64285714],\n",
       "       [ 0.62      ,  0.63265306],\n",
       "       [ 0.62626263,  0.63265306],\n",
       "       [ 0.63265306,  0.63265306],\n",
       "       [ 0.62886598,  0.62244898],\n",
       "       [ 0.63541667,  0.62244898],\n",
       "       [ 0.63157895,  0.6122449 ],\n",
       "       [ 0.63829787,  0.6122449 ],\n",
       "       [ 0.64516129,  0.6122449 ],\n",
       "       [ 0.65217391,  0.6122449 ],\n",
       "       [ 0.64835165,  0.60204082],\n",
       "       [ 0.65555556,  0.60204082],\n",
       "       [ 0.65168539,  0.59183673],\n",
       "       [ 0.64772727,  0.58163265],\n",
       "       [ 0.65517241,  0.58163265],\n",
       "       [ 0.6627907 ,  0.58163265],\n",
       "       [ 0.67058824,  0.58163265],\n",
       "       [ 0.67857143,  0.58163265],\n",
       "       [ 0.68674699,  0.58163265],\n",
       "       [ 0.69512195,  0.58163265],\n",
       "       [ 0.7037037 ,  0.58163265],\n",
       "       [ 0.7       ,  0.57142857],\n",
       "       [ 0.70886076,  0.57142857],\n",
       "       [ 0.71794872,  0.57142857],\n",
       "       [ 0.72727273,  0.57142857],\n",
       "       [ 0.72368421,  0.56122449],\n",
       "       [ 0.72      ,  0.55102041],\n",
       "       [ 0.72972973,  0.55102041],\n",
       "       [ 0.7260274 ,  0.54081633],\n",
       "       [ 0.72222222,  0.53061224],\n",
       "       [ 0.71830986,  0.52040816],\n",
       "       [ 0.72857143,  0.52040816],\n",
       "       [ 0.72463768,  0.51020408],\n",
       "       [ 0.73529412,  0.51020408],\n",
       "       [ 0.73134328,  0.5       ],\n",
       "       [ 0.72727273,  0.48979592],\n",
       "       [ 0.73846154,  0.48979592],\n",
       "       [ 0.734375  ,  0.47959184],\n",
       "       [ 0.74603175,  0.47959184],\n",
       "       [ 0.75806452,  0.47959184],\n",
       "       [ 0.75409836,  0.46938776],\n",
       "       [ 0.75      ,  0.45918367],\n",
       "       [ 0.76271186,  0.45918367],\n",
       "       [ 0.75862069,  0.44897959],\n",
       "       [ 0.75438596,  0.43877551],\n",
       "       [ 0.75      ,  0.42857143],\n",
       "       [ 0.74545455,  0.41836735],\n",
       "       [ 0.74074074,  0.40816327],\n",
       "       [ 0.75471698,  0.40816327],\n",
       "       [ 0.75      ,  0.39795918],\n",
       "       [ 0.74509804,  0.3877551 ],\n",
       "       [ 0.76      ,  0.3877551 ],\n",
       "       [ 0.7755102 ,  0.3877551 ],\n",
       "       [ 0.77083333,  0.37755102],\n",
       "       [ 0.76595745,  0.36734694],\n",
       "       [ 0.76086957,  0.35714286],\n",
       "       [ 0.77777778,  0.35714286],\n",
       "       [ 0.79545455,  0.35714286],\n",
       "       [ 0.81395349,  0.35714286],\n",
       "       [ 0.83333333,  0.35714286],\n",
       "       [ 0.85365854,  0.35714286],\n",
       "       [ 0.875     ,  0.35714286],\n",
       "       [ 0.87179487,  0.34693878],\n",
       "       [ 0.86842105,  0.33673469],\n",
       "       [ 0.86486486,  0.32653061],\n",
       "       [ 0.86111111,  0.31632653],\n",
       "       [ 0.85714286,  0.30612245],\n",
       "       [ 0.85294118,  0.29591837],\n",
       "       [ 0.84848485,  0.28571429],\n",
       "       [ 0.84375   ,  0.2755102 ],\n",
       "       [ 0.83870968,  0.26530612],\n",
       "       [ 0.83333333,  0.25510204],\n",
       "       [ 0.82758621,  0.24489796],\n",
       "       [ 0.82142857,  0.23469388],\n",
       "       [ 0.81481481,  0.2244898 ],\n",
       "       [ 0.80769231,  0.21428571],\n",
       "       [ 0.8       ,  0.20408163],\n",
       "       [ 0.79166667,  0.19387755],\n",
       "       [ 0.7826087 ,  0.18367347],\n",
       "       [ 0.77272727,  0.17346939],\n",
       "       [ 0.76190476,  0.16326531],\n",
       "       [ 0.75      ,  0.15306122],\n",
       "       [ 0.78947368,  0.15306122],\n",
       "       [ 0.77777778,  0.14285714],\n",
       "       [ 0.76470588,  0.13265306],\n",
       "       [ 0.75      ,  0.12244898],\n",
       "       [ 0.8       ,  0.12244898],\n",
       "       [ 0.78571429,  0.1122449 ],\n",
       "       [ 0.76923077,  0.10204082],\n",
       "       [ 0.83333333,  0.10204082],\n",
       "       [ 0.81818182,  0.09183673],\n",
       "       [ 0.8       ,  0.08163265],\n",
       "       [ 0.77777778,  0.07142857],\n",
       "       [ 0.75      ,  0.06122449],\n",
       "       [ 0.71428571,  0.05102041],\n",
       "       [ 0.66666667,  0.04081633],\n",
       "       [ 0.6       ,  0.03061224],\n",
       "       [ 0.75      ,  0.03061224],\n",
       "       [ 1.        ,  0.03061224],\n",
       "       [ 1.        ,  0.02040816],\n",
       "       [ 1.        ,  0.01020408],\n",
       "       [ 1.        ,  0.        ]])"
      ]
     },
     "execution_count": 100,
     "metadata": {},
     "output_type": "execute_result"
    }
   ],
   "source": [
    "np.array([a[0].tolist(),a[1].tolist()]).T"
   ]
  },
  {
   "cell_type": "code",
   "execution_count": 103,
   "metadata": {
    "collapsed": false
   },
   "outputs": [],
   "source": [
    "frame=pd.DataFrame(np.array([a[0].tolist(),a[1].tolist()]).T, columns=['pre','rec'])"
   ]
  },
  {
   "cell_type": "code",
   "execution_count": 107,
   "metadata": {
    "collapsed": false
   },
   "outputs": [
    {
     "data": {
      "text/plain": [
       "0.63025210084033612"
      ]
     },
     "execution_count": 107,
     "metadata": {},
     "output_type": "execute_result"
    }
   ],
   "source": [
    "frame.pre[frame.rec > 0.7].max()"
   ]
  },
  {
   "cell_type": "markdown",
   "metadata": {},
   "source": [
    "###### делаем тоже самое, только в цикле, стразу по всем классификаторам"
   ]
  },
  {
   "cell_type": "code",
   "execution_count": 154,
   "metadata": {
    "collapsed": false
   },
   "outputs": [],
   "source": [
    "est=data.columns.values[1:]\n",
    "scores = pd.Series(index=est)"
   ]
  },
  {
   "cell_type": "code",
   "execution_count": 163,
   "metadata": {
    "collapsed": false
   },
   "outputs": [],
   "source": [
    "for i in est:\n",
    "    a=metrics.precision_recall_curve(data.true,data[i])\n",
    "    frame=pd.DataFrame(np.array([a[0].tolist(),a[1].tolist()]).T, columns=['pre','rec'])\n",
    "    scores[i] = frame.pre[frame.rec > 0.7].max()"
   ]
  },
  {
   "cell_type": "code",
   "execution_count": 152,
   "metadata": {
    "collapsed": false
   },
   "outputs": [],
   "source": [
    "scores.score_logreg=1"
   ]
  },
  {
   "cell_type": "code",
   "execution_count": 169,
   "metadata": {
    "collapsed": false
   },
   "outputs": [
    {
     "data": {
      "text/plain": [
       "score_tree    0.651786\n",
       "dtype: float64"
      ]
     },
     "execution_count": 169,
     "metadata": {},
     "output_type": "execute_result"
    }
   ],
   "source": [
    "scores[scores == scores.max()]"
   ]
  },
  {
   "cell_type": "code",
   "execution_count": null,
   "metadata": {
    "collapsed": true
   },
   "outputs": [],
   "source": []
  }
 ],
 "metadata": {
  "kernelspec": {
   "display_name": "Python 2",
   "language": "python",
   "name": "python2"
  },
  "language_info": {
   "codemirror_mode": {
    "name": "ipython",
    "version": 2
   },
   "file_extension": ".py",
   "mimetype": "text/x-python",
   "name": "python",
   "nbconvert_exporter": "python",
   "pygments_lexer": "ipython2",
   "version": "2.7.12"
  }
 },
 "nbformat": 4,
 "nbformat_minor": 0
}
