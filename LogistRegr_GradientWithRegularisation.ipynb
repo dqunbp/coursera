{
 "cells": [
  {
   "cell_type": "code",
   "execution_count": 2,
   "metadata": {
    "collapsed": true
   },
   "outputs": [],
   "source": [
    "from sklearn import metrics\n",
    "\n",
    "import pandas as pd\n",
    "import math"
   ]
  },
  {
   "cell_type": "code",
   "execution_count": 4,
   "metadata": {
    "collapsed": true
   },
   "outputs": [],
   "source": [
    "data = pd.read_csv('C:/Users/2/Downloads/_data-logistic.csv', header=None)"
   ]
  },
  {
   "cell_type": "code",
   "execution_count": 10,
   "metadata": {
    "collapsed": true
   },
   "outputs": [],
   "source": [
    "X=data.loc[:,1:]\n",
    "y=data[0]"
   ]
  },
  {
   "cell_type": "code",
   "execution_count": null,
   "metadata": {
    "collapsed": true
   },
   "outputs": [],
   "source": [
    "class gradRegr:\n",
    "    def __init__(self,X,y,K,C=0):\n",
    "        self.l=len(y)\n",
    "        self.k=K\n",
    "        self.c=C\n",
    "        self.X=X\n",
    "        self.y=y\n",
    "    \n",
    "    def getWeight(self,w): #подсчет суммы весов \n",
    "        X=self.X\n",
    "        y=self.y\n",
    "        l=self.l\n",
    "        sumW1 = float(0)\n",
    "        sumW2 = float(0)\n",
    "        for i in range(l):\n",
    "            sumW1 += y[i]*X[1][i]*(1 - (1/(1+math.exp(-y[i]*(w[0]*X[1][i]+w[1]*X[2][i])))))\n",
    "            sumW2 += y[i]*X[2][i]*(1 - (1/(1+math.exp(-y[i]*(w[0]*X[1][i]+w[1]*X[2][i])))))\n",
    "        W1 = w[0] + (self.k/l)*sumW1 - self.k*self.c*w[0]\n",
    "        W2 = w[1] + (self.k/l)*sumW2 - self.k*self.c*w[1]\n",
    "        return [W1,W2]\n",
    "        \n",
    "    def getEDistance(self,w1,w2): #подсчет евклидова расстояния\n",
    "        return math.sqrt((w1[0]-w2[0])**2+(w1[1]-w2[1])**2)\n",
    "        \n",
    "    def sigmaFunc(self,w,x): #сигма функция, для рассчета оценок вероятности классов, по имеющимся оптимальным весам\n",
    "        return 1/(1 + math.exp(-w[0]*x[0] - w[1]*x[1]))\n",
    "        "
   ]
  },
  {
   "cell_type": "code",
   "execution_count": null,
   "metadata": {
    "collapsed": true
   },
   "outputs": [],
   "source": [
    "test = gradRegr(X,y,K=0.1,C=0)\n",
    "w0=[0,0]\n",
    "_exit=0 \n",
    "#задаем начальное значение w0 и значения шага К и коэффициета регуляризации С\n",
    "for j in range(10**4): #запускаем цикл, с ограниченным числом итераций\n",
    "    wNew=test.getWeight(w0) #на каждом шаге пересчитываем веса\n",
    "    #print wNew\n",
    "    dist=test.getEDistance(w0,wNew) #измеряем расстояние между предыдущим вектором весов и новым значением\n",
    "    #print dist\n",
    "    if (dist < 10**(-5)): #если расстояние между ними невелико, останавливаем цикл\n",
    "        _exit=1\n",
    "        print j+1\n",
    "        break\n",
    "    else:\n",
    "        w0=wNew\n",
    "    print j+1\n",
    "\n",
    "if _exit: \n",
    "    vector = wNew\n",
    "    print 'distanse is small'\n",
    "    print wNew\n",
    "else:\n",
    "    vector = wNew\n",
    "    print 'limit of 10**4'\n",
    "    print wNew\n",
    "\n",
    "\n",
    "rocMatr = []\n",
    "\n",
    "for i in range(len(y)): #рассчет вероятностей класов\n",
    "    rocMatr.append(test.sigmaFunc(vector,[X[1][i],X[2][i]]))\n",
    "    print rocMatr\n",
    "roc=metrics.roc_auc_score(y,rocMatr) #оценка качества классификации\n",
    "print 'roc value:'\n",
    "print roc"
   ]
  }
 ],
 "metadata": {
  "kernelspec": {
   "display_name": "Python 2",
   "language": "python",
   "name": "python2"
  },
  "language_info": {
   "codemirror_mode": {
    "name": "ipython",
    "version": 2
   },
   "file_extension": ".py",
   "mimetype": "text/x-python",
   "name": "python",
   "nbconvert_exporter": "python",
   "pygments_lexer": "ipython2",
   "version": "2.7.11"
  }
 },
 "nbformat": 4,
 "nbformat_minor": 0
}
