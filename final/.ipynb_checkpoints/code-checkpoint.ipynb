{
 "cells": [
  {
   "cell_type": "code",
   "execution_count": 2,
   "metadata": {
    "collapsed": false
   },
   "outputs": [],
   "source": [
    "import pandas\n",
    "import sklearn\n",
    "import numpy as np\n",
    "from sklearn.ensemble import GradientBoostingClassifier\n",
    "import time\n",
    "import datetime\n",
    "from sklearn.cross_validation import KFold\n",
    "from sklearn.metrics import roc_auc_score\n",
    "from sklearn.preprocessing import StandardScaler\n",
    "from sklearn.linear_model import LogisticRegression"
   ]
  },
  {
   "cell_type": "markdown",
   "metadata": {},
   "source": [
    "Загрузка и предобработка данных:"
   ]
  },
  {
   "cell_type": "code",
   "execution_count": 3,
   "metadata": {
    "collapsed": false
   },
   "outputs": [],
   "source": [
    "features = pandas.read_csv('D:\\\\features.csv')\n",
    "\n",
    "nulls = []\n",
    "for i in range(0, features.columns.size):\n",
    "    if(features.isnull().any()[i] == True):\n",
    "        nulls = nulls + [features.columns[i]]\n",
    "\n",
    "features = features.fillna(0)\n",
    "y = features['radiant_win']\n",
    "finish_data = [\"duration\", \"radiant_win\", \"tower_status_radiant\", \"tower_status_dire\", \"barracks_status_dire\", \n",
    "               \"barracks_status_radiant\"]\n",
    "for i in finish_data:\n",
    "    del features[i]\n",
    "\n",
    "X = features.as_matrix()"
   ]
  },
  {
   "cell_type": "markdown",
   "metadata": {},
   "source": [
    "Список признаков, имеющих пропуски:"
   ]
  },
  {
   "cell_type": "code",
   "execution_count": 24,
   "metadata": {
    "collapsed": false,
    "scrolled": true
   },
   "outputs": [
    {
     "data": {
      "text/plain": [
       "['first_blood_time',\n",
       " 'first_blood_team',\n",
       " 'first_blood_player1',\n",
       " 'first_blood_player2',\n",
       " 'radiant_bottle_time',\n",
       " 'radiant_courier_time',\n",
       " 'radiant_flying_courier_time',\n",
       " 'radiant_first_ward_time',\n",
       " 'dire_bottle_time',\n",
       " 'dire_courier_time',\n",
       " 'dire_flying_courier_time',\n",
       " 'dire_first_ward_time']"
      ]
     },
     "execution_count": 24,
     "metadata": {},
     "output_type": "execute_result"
    }
   ],
   "source": [
    "nulls"
   ]
  },
  {
   "cell_type": "markdown",
   "metadata": {},
   "source": [
    "Градиентный бустинг на 10, 20, 30 и 50 деревьях:"
   ]
  },
  {
   "cell_type": "code",
   "execution_count": 74,
   "metadata": {
    "collapsed": false
   },
   "outputs": [
    {
     "name": "stdout",
     "output_type": "stream",
     "text": [
      "Number of trees: 10\n",
      "Time elapsed: 0:00:37.839000\n",
      "Accuracy: 0.664510618674\n",
      "Number of trees: 20\n",
      "Time elapsed: 0:01:10.799000\n",
      "Accuracy: 0.682445695009\n",
      "Number of trees: 30\n",
      "Time elapsed: 0:01:44.403000\n",
      "Accuracy: 0.689098257857\n",
      "Number of trees: 50\n",
      "Time elapsed: 0:02:57.970000\n",
      "Accuracy: 0.697154100919\n"
     ]
    }
   ],
   "source": [
    "kf = KFold(n = y.size, n_folds = 5, shuffle = True)\n",
    "n_trees = [10, 20, 30, 50]\n",
    "\n",
    "for i in n_trees:\n",
    "    clf = GradientBoostingClassifier(n_estimators = i)\n",
    "    acc = np.arange(5, dtype = np.float)\n",
    "    k = 0\n",
    "    start_time = datetime.datetime.now()\n",
    "    for train, test in kf:\n",
    "        X_train, X_test, y_train, y_test = X[train], X[test], y[train], y[test]\n",
    "        clf.fit(X_train, y_train)\n",
    "        y_pred = clf.predict_proba(X_test)[:, 1]\n",
    "        acc[k] = roc_auc_score(y_test, y_pred)\n",
    "        k = k + 1\n",
    "    print 'Number of trees:', i\n",
    "    print 'Time elapsed:', datetime.datetime.now() - start_time\n",
    "    print 'Accuracy:', acc.sum() / acc.size"
   ]
  },
  {
   "cell_type": "markdown",
   "metadata": {},
   "source": [
    "Создание обучающей выборки для двух случаев: обучения по всем признакам (матрица Х) и для обучения на части признаков, исключая категориальные (матрица Х1)"
   ]
  },
  {
   "cell_type": "code",
   "execution_count": 7,
   "metadata": {
    "collapsed": false
   },
   "outputs": [],
   "source": [
    "X = features.as_matrix()\n",
    "X = StandardScaler().fit_transform(X)\n",
    "categ = ['lobby_type', 'r1_hero', 'r2_hero', 'r3_hero', 'r4_hero', 'r5_hero', 'd1_hero', 'd2_hero', 'd3_hero', 'd4_hero',\n",
    "         'd5_hero']\n",
    "features1 = features.copy()\n",
    "for i in categ:\n",
    "    del features1[i]\n",
    "    \n",
    "X1 = features1.as_matrix()\n",
    "X1 = StandardScaler().fit_transform(X1)"
   ]
  },
  {
   "cell_type": "markdown",
   "metadata": {},
   "source": [
    "Обучение и результаты для полной матрицы признаков:"
   ]
  },
  {
   "cell_type": "code",
   "execution_count": 10,
   "metadata": {
    "collapsed": false
   },
   "outputs": [
    {
     "name": "stdout",
     "output_type": "stream",
     "text": [
      "C value: 0.001\n",
      "Time elapsed: 0:00:11.163000\n",
      "Accuracy: 0.716475779013\n",
      "C value: 0.01\n",
      "Time elapsed: 0:00:15.578000\n",
      "Accuracy: 0.716657407178\n",
      "C value: 0.1\n",
      "Time elapsed: 0:00:16.378000\n",
      "Accuracy: 0.716629973006\n",
      "C value: 1\n",
      "Time elapsed: 0:00:16.240000\n",
      "Accuracy: 0.716625981932\n",
      "C value: 10\n",
      "Time elapsed: 0:00:16.875000\n",
      "Accuracy: 0.716625652393\n",
      "C value: 100\n",
      "Time elapsed: 0:00:17.324000\n",
      "Accuracy: 0.716625570826\n"
     ]
    }
   ],
   "source": [
    "X = features.as_matrix()\n",
    "X = StandardScaler().fit_transform(X)\n",
    "kf = KFold(n = y.size, n_folds = 5, shuffle = True)\n",
    "param = [0.001, 0.01, 0.1, 1, 10, 100]\n",
    "for i in param:\n",
    "    clf = LogisticRegression(C = i)\n",
    "    acc = np.arange(5, dtype = np.float)\n",
    "    k = 0\n",
    "    start_time = datetime.datetime.now()\n",
    "    for train, test in kf:\n",
    "        X_train, X_test, y_train, y_test = X[train], X[test], y[train], y[test]\n",
    "        clf.fit(X_train, y_train)\n",
    "        y_pred = clf.predict_proba(X_test)[:, 1]\n",
    "        acc[k] = roc_auc_score(y_test, y_pred)\n",
    "        k = k + 1\n",
    "    print 'C value:', i\n",
    "    print 'Time elapsed:', datetime.datetime.now() - start_time\n",
    "    print 'Accuracy:', acc.sum() / acc.size"
   ]
  },
  {
   "cell_type": "markdown",
   "metadata": {},
   "source": [
    "Обучение и результаты для неполной матрицы признаков:"
   ]
  },
  {
   "cell_type": "code",
   "execution_count": 11,
   "metadata": {
    "collapsed": false
   },
   "outputs": [
    {
     "name": "stdout",
     "output_type": "stream",
     "text": [
      "C value: 0.001\n",
      "Time elapsed: 0:00:10.656000\n",
      "Accuracy: 0.716261261303\n",
      "C value: 0.01\n",
      "Time elapsed: 0:00:14.198000\n",
      "Accuracy: 0.716408590554\n",
      "C value: 0.1\n",
      "Time elapsed: 0:00:13.066000\n",
      "Accuracy: 0.716376568043\n",
      "C value: 1\n",
      "Time elapsed: 0:00:13.118000\n",
      "Accuracy: 0.716370593845\n",
      "C value: 10\n",
      "Time elapsed: 0:00:13.318000\n",
      "Accuracy: 0.716370015492\n",
      "C value: 100\n",
      "Time elapsed: 0:00:13.538000\n",
      "Accuracy: 0.716369989019\n"
     ]
    }
   ],
   "source": [
    "X = X1\n",
    "kf = KFold(n = y.size, n_folds = 5, shuffle = True)\n",
    "param = [0.001, 0.01, 0.1, 1, 10, 100]\n",
    "for i in param:\n",
    "    clf = LogisticRegression(C = i)\n",
    "    acc = np.arange(5, dtype = np.float)\n",
    "    k = 0\n",
    "    start_time = datetime.datetime.now()\n",
    "    for train, test in kf:\n",
    "        X_train, X_test, y_train, y_test = X[train], X[test], y[train], y[test]\n",
    "        clf.fit(X_train, y_train)\n",
    "        y_pred = clf.predict_proba(X_test)[:, 1]\n",
    "        acc[k] = roc_auc_score(y_test, y_pred)\n",
    "        k = k + 1\n",
    "    print 'C value:', i\n",
    "    print 'Time elapsed:', datetime.datetime.now() - start_time\n",
    "    print 'Accuracy:', acc.sum() / acc.size"
   ]
  },
  {
   "cell_type": "markdown",
   "metadata": {},
   "source": [
    "Нахождение количества уникальных идентификаторов героев:"
   ]
  },
  {
   "cell_type": "code",
   "execution_count": 120,
   "metadata": {
    "collapsed": false
   },
   "outputs": [
    {
     "data": {
      "text/plain": [
       "array([  1,   2,   3,   4,   5,   6,   7,   8,   9,  10,  11,  12,  13,\n",
       "        14,  15,  16,  17,  18,  19,  20,  21,  22,  23,  25,  26,  27,\n",
       "        28,  29,  30,  31,  32,  33,  34,  35,  36,  37,  38,  39,  40,\n",
       "        41,  42,  43,  44,  45,  46,  47,  48,  49,  50,  51,  52,  53,\n",
       "        54,  55,  56,  57,  58,  59,  60,  61,  62,  63,  64,  65,  66,\n",
       "        67,  68,  69,  70,  71,  72,  73,  74,  75,  76,  77,  78,  79,\n",
       "        80,  81,  82,  83,  84,  85,  86,  87,  88,  89,  90,  91,  92,\n",
       "        93,  94,  95,  96,  97,  98,  99, 100, 101, 102, 103, 104, 105,\n",
       "       106, 109, 110, 112], dtype=int64)"
      ]
     },
     "execution_count": 120,
     "metadata": {},
     "output_type": "execute_result"
    }
   ],
   "source": [
    "heroes = features[categ]\n",
    "del heroes['lobby_type']\n",
    "np.unique(heroes)\n"
   ]
  },
  {
   "cell_type": "markdown",
   "metadata": {},
   "source": [
    "Хотя размер массива равен 108, последний идентификатор равен 112, что наводит на мысль, что идентификаторов на самом деле 112, а не 108. Отсутствие же некоторых идентификаторов в массиве можно объяснить тем, что никто не выбирал этих 4 героев в тех матчах, которые попали в обучающую выборку."
   ]
  },
  {
   "cell_type": "markdown",
   "metadata": {},
   "source": [
    "Создание \"мешка слов\" и обучение на новом формате:"
   ]
  },
  {
   "cell_type": "code",
   "execution_count": 12,
   "metadata": {
    "collapsed": false
   },
   "outputs": [],
   "source": [
    "N = 112\n",
    "X_pick = np.zeros((features.shape[0], N))\n",
    "for i, match_id in enumerate(features.index):\n",
    "    for p in xrange(5):\n",
    "        X_pick[i, features.ix[match_id, 'r%d_hero' % (p+1)]-1] = 1\n",
    "        X_pick[i, features.ix[match_id, 'd%d_hero' % (p+1)]-1] = -1"
   ]
  },
  {
   "cell_type": "code",
   "execution_count": 13,
   "metadata": {
    "collapsed": false
   },
   "outputs": [
    {
     "name": "stdout",
     "output_type": "stream",
     "text": [
      "C value: 0.001\n",
      "Time elapsed: 0:00:11.220000\n",
      "Accuracy: 0.716298988847\n",
      "C value: 0.01\n",
      "Time elapsed: 0:00:15.430000\n",
      "Accuracy: 0.716457563171\n",
      "C value: 0.1\n",
      "Time elapsed: 0:00:15.613000\n",
      "Accuracy: 0.716423803707\n",
      "C value: 1\n",
      "Time elapsed: 0:00:15.641000\n",
      "Accuracy: 0.716419524549\n",
      "C value: 10\n",
      "Time elapsed: 0:00:15.437000\n",
      "Accuracy: 0.71641888359\n",
      "C value: 100\n",
      "Time elapsed: 0:00:15.310000\n",
      "Accuracy: 0.716418787084\n"
     ]
    }
   ],
   "source": [
    "X = features.as_matrix()\n",
    "X = StandardScaler().fit_transform(X)\n",
    "kf = KFold(n = y.size, n_folds = 5, shuffle = True)\n",
    "param = [0.001, 0.01, 0.1, 1, 10, 100]\n",
    "for i in param:\n",
    "    clf = LogisticRegression(C = i)\n",
    "    acc = np.arange(5, dtype = np.float)\n",
    "    k = 0\n",
    "    start_time = datetime.datetime.now()\n",
    "    for train, test in kf:\n",
    "        X_train, X_test, y_train, y_test = X[train], X[test], y[train], y[test]\n",
    "        clf.fit(X_train, y_train)\n",
    "        y_pred = clf.predict_proba(X_test)[:, 1]\n",
    "        acc[k] = roc_auc_score(y_test, y_pred)\n",
    "        k = k + 1\n",
    "    print 'C value:', i\n",
    "    print 'Time elapsed:', datetime.datetime.now() - start_time\n",
    "    print 'Accuracy:', acc.sum() / acc.size"
   ]
  },
  {
   "cell_type": "markdown",
   "metadata": {},
   "source": [
    "Наилучший результат по метрике AUC_ROC дает логистическая регрессия с параметром С = 0.01. Интересно, что более \"правильная\" обработка категориальных признаков не улучшает результат. Таким образом, итоговый алгоритм обучим на данных без обработки категориальных признаков, они все равно не дают вклада."
   ]
  },
  {
   "cell_type": "code",
   "execution_count": 14,
   "metadata": {
    "collapsed": false
   },
   "outputs": [
    {
     "data": {
      "text/plain": [
       "LogisticRegression(C=0.01, class_weight=None, dual=False, fit_intercept=True,\n",
       "          intercept_scaling=1, max_iter=100, multi_class='ovr', n_jobs=1,\n",
       "          penalty='l2', random_state=None, solver='liblinear', tol=0.0001,\n",
       "          verbose=0, warm_start=False)"
      ]
     },
     "execution_count": 14,
     "metadata": {},
     "output_type": "execute_result"
    }
   ],
   "source": [
    "X = features.as_matrix()\n",
    "X = StandardScaler().fit_transform(X)\n",
    "clf = LogisticRegression(C = 0.01)\n",
    "clf.fit(X, y)"
   ]
  },
  {
   "cell_type": "code",
   "execution_count": 141,
   "metadata": {
    "collapsed": false
   },
   "outputs": [],
   "source": [
    "features_test = pandas.read_csv('D:\\\\features_test.csv')\n",
    "features_test = features_test.fillna(0)\n",
    "\n",
    "X_test = features_test.as_matrix()\n",
    "X_test = StandardScaler().fit_transform(X_test)\n",
    "\n",
    "probas = clf.predict_proba(X_test)"
   ]
  },
  {
   "cell_type": "code",
   "execution_count": 146,
   "metadata": {
    "collapsed": false
   },
   "outputs": [
    {
     "data": {
      "text/plain": [
       "array([[ 0.45630651,  0.54369349],\n",
       "       [ 0.33700614,  0.66299386],\n",
       "       [ 0.6528789 ,  0.3471211 ],\n",
       "       ..., \n",
       "       [ 0.72428396,  0.27571604],\n",
       "       [ 0.62218943,  0.37781057],\n",
       "       [ 0.44980786,  0.55019214]])"
      ]
     },
     "execution_count": 146,
     "metadata": {},
     "output_type": "execute_result"
    }
   ],
   "source": [
    "probas"
   ]
  },
  {
   "cell_type": "code",
   "execution_count": 145,
   "metadata": {
    "collapsed": false
   },
   "outputs": [
    {
     "data": {
      "text/plain": [
       "0.99236820206422449"
      ]
     },
     "execution_count": 145,
     "metadata": {},
     "output_type": "execute_result"
    }
   ],
   "source": [
    "probas.max()"
   ]
  },
  {
   "cell_type": "code",
   "execution_count": 147,
   "metadata": {
    "collapsed": false
   },
   "outputs": [
    {
     "data": {
      "text/plain": [
       "0.0076317979357755153"
      ]
     },
     "execution_count": 147,
     "metadata": {},
     "output_type": "execute_result"
    }
   ],
   "source": [
    "probas.min()"
   ]
  }
 ],
 "metadata": {
  "kernelspec": {
   "display_name": "Python 2",
   "language": "python",
   "name": "python2"
  },
  "language_info": {
   "codemirror_mode": {
    "name": "ipython",
    "version": 2
   },
   "file_extension": ".py",
   "mimetype": "text/x-python",
   "name": "python",
   "nbconvert_exporter": "python",
   "pygments_lexer": "ipython2",
   "version": "2.7.11"
  }
 },
 "nbformat": 4,
 "nbformat_minor": 0
}
