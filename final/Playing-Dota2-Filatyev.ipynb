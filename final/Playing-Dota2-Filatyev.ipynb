{
 "cells": [
  {
   "cell_type": "markdown",
   "metadata": {},
   "source": [
    "# Играем в Dota 2"
   ]
  },
  {
   "cell_type": "markdown",
   "metadata": {},
   "source": [
    "### `Сергей Филатьев`"
   ]
  },
  {
   "cell_type": "markdown",
   "metadata": {},
   "source": [
    "### Градиентный бустинг \"в лоб\""
   ]
  },
  {
   "cell_type": "code",
   "execution_count": 1,
   "metadata": {
    "collapsed": true
   },
   "outputs": [],
   "source": [
    "import pandas as pd\n",
    "import numpy as np\n",
    "from sklearn.ensemble import GradientBoostingClassifier\n",
    "from sklearn.metrics import roc_auc_score\n",
    "from sklearn.cross_validation import KFold\n",
    "from sklearn.linear_model import LogisticRegression\n",
    "import time\n",
    "import datetime\n",
    "from sklearn.preprocessing import StandardScaler,scale\n"
   ]
  },
  {
   "cell_type": "markdown",
   "metadata": {},
   "source": [
    "Считаем таблицу с признаками из файла features.csv с помощью кода, приведенного выше. Удалим признаки, связанные с итогами матча, так же создадим переменную result из столбца radiant_win содержащим целевую переменную."
   ]
  },
  {
   "cell_type": "code",
   "execution_count": 2,
   "metadata": {
    "collapsed": true
   },
   "outputs": [],
   "source": [
    "features = pd.read_csv('./features.csv', index_col='match_id')\n",
    "result=features['radiant_win'].values\n",
    "feat_drop=['duration','radiant_win','tower_status_radiant','tower_status_dire','barracks_status_radiant',\n",
    "           'barracks_status_dire']\n",
    "features.drop(feat_drop,axis=1,inplace=True)"
   ]
  },
  {
   "cell_type": "markdown",
   "metadata": {},
   "source": [
    "Найдем признаки с пропущенными значениями"
   ]
  },
  {
   "cell_type": "code",
   "execution_count": 3,
   "metadata": {
    "collapsed": false
   },
   "outputs": [
    {
     "data": {
      "text/plain": [
       "first_blood_time               19553\n",
       "first_blood_team               19553\n",
       "first_blood_player1            19553\n",
       "first_blood_player2            43987\n",
       "radiant_bottle_time            15691\n",
       "radiant_courier_time             692\n",
       "radiant_flying_courier_time    27479\n",
       "radiant_first_ward_time         1836\n",
       "dire_bottle_time               16143\n",
       "dire_courier_time                676\n",
       "dire_flying_courier_time       26098\n",
       "dire_first_ward_time            1826\n",
       "dtype: int64"
      ]
     },
     "execution_count": 3,
     "metadata": {},
     "output_type": "execute_result"
    }
   ],
   "source": [
    "tot_size=features.shape[0]\n",
    "Tot_count=features.count(axis=0)\n",
    "NA_count=tot_size-Tot_count[Tot_count<tot_size]\n",
    "NA_count"
   ]
  },
  {
   "cell_type": "markdown",
   "metadata": {},
   "source": [
    "Например, у признаков first_blood_time, first_blood_team, и first_blood_player1 отсутствуют 19553 зачения. Это связано с тем, что за первые 5 минут игры первая кровь еще не пролилась."
   ]
  },
  {
   "cell_type": "markdown",
   "metadata": {},
   "source": [
    "Заменим пропуски на нули"
   ]
  },
  {
   "cell_type": "code",
   "execution_count": 4,
   "metadata": {
    "collapsed": true
   },
   "outputs": [],
   "source": [
    "cleaned=features.fillna(0)"
   ]
  },
  {
   "cell_type": "markdown",
   "metadata": {},
   "source": [
    "Теперь проведем кросс-валидацию по 5 блокам для проверки качества градиентного бустинга для 10, 20, 30 и 40 деревьев и узнаем время выполнения процесса."
   ]
  },
  {
   "cell_type": "code",
   "execution_count": 5,
   "metadata": {
    "collapsed": false
   },
   "outputs": [
    {
     "name": "stdout",
     "output_type": "stream",
     "text": [
      "Время: 0:00:27.081421\n",
      "Число деревьев = 10 ; Качество= 0.664615447226 ( std = 0.00277288839722 )\n",
      "Время: 0:00:49.534624\n",
      "Число деревьев = 20 ; Качество= 0.682292361314 ( std = 0.00473376279984 )\n",
      "Время: 0:01:10.630890\n",
      "Число деревьев = 30 ; Качество= 0.689151078573 ( std = 0.0048867508197 )\n",
      "Время: 0:01:35.498363\n",
      "Число деревьев = 40 ; Качество= 0.693825095081 ( std = 0.00431108398128 )\n"
     ]
    }
   ],
   "source": [
    "kf=KFold(tot_size, n_folds=5, shuffle=True, random_state=137264)\n",
    "X= cleaned.values\n",
    "for ntrees in range(10,50,10):\n",
    "    start_time = datetime.datetime.now()\n",
    "    gbc=GradientBoostingClassifier(random_state=15837,n_estimators=ntrees)\n",
    "    error=np.zeros(5)\n",
    "    index=0\n",
    "    for train_index, test_index in kf:\n",
    "        X_train, X_test = X[train_index,:], X[test_index,:]\n",
    "        y_train, y_test = result[train_index], result[test_index]\n",
    "        gbc.fit(X_train,y_train)\n",
    "        y_pred=gbc.predict_proba(X_test)[:, 1]\n",
    "        error[index]=roc_auc_score(y_test,y_pred)\n",
    "        index+=1\n",
    "    print 'Время:', datetime.datetime.now() - start_time\n",
    "    print 'Число деревьев =',ntrees,'; Качество=',np.mean(error),'( std =',np.std(error),')'"
   ]
  },
  {
   "cell_type": "markdown",
   "metadata": {},
   "source": [
    "С увеличением числа деревьев качество улучшается. Скорее всего мы еще не достигли максимума. К сожалению время исполнения значительно увеличивается с каждым добавлением 10 деревьев. Это связано с тем, что каждый раз все деревья пересчитываются заново. Чтобы не пересчитывать все, а только добавлять новые 10 деревьев, можно установить параметр warm_start=True в GradientBoostingClassifier. Чтобы уменьшить время обучения на каждом новом дереве, можно уменьшить их глубину (параметр max_depth) "
   ]
  },
  {
   "cell_type": "code",
   "execution_count": 7,
   "metadata": {
    "collapsed": false
   },
   "outputs": [
    {
     "name": "stdout",
     "output_type": "stream",
     "text": [
      "Время: 0:00:25.911078\n",
      "Число деревьев = 10 ; Качество= 0.664615447226 ( std = 0.00277288839722 )\n",
      "Время: 0:00:25.424228\n",
      "Число деревьев = 20 ; Качество= 0.682292361314 ( std = 0.00473376279984 )\n",
      "Время: 0:00:25.566026\n",
      "Число деревьев = 30 ; Качество= 0.689151078573 ( std = 0.0048867508197 )\n",
      "Время: 0:00:25.645954\n",
      "Число деревьев = 40 ; Качество= 0.693825095081 ( std = 0.00431108398128 )\n",
      "Время: 0:00:25.864894\n",
      "Число деревьев = 50 ; Качество= 0.697231778399 ( std = 0.00433342779513 )\n",
      "Время: 0:00:26.164574\n",
      "Число деревьев = 60 ; Качество= 0.699935325247 ( std = 0.00417637501723 )\n",
      "Время: 0:00:26.300458\n",
      "Число деревьев = 70 ; Качество= 0.702089160856 ( std = 0.00413293630799 )\n",
      "Время: 0:00:26.281397\n",
      "Число деревьев = 80 ; Качество= 0.703813671814 ( std = 0.00391141009218 )\n",
      "Время: 0:00:26.218174\n",
      "Число деревьев = 90 ; Качество= 0.705101592969 ( std = 0.00407960703583 )\n",
      "Время: 0:00:27.023735\n",
      "Число деревьев = 100 ; Качество= 0.70631155834 ( std = 0.00395408133001 )\n",
      "Время: 0:00:27.182559\n",
      "Число деревьев = 110 ; Качество= 0.707388702036 ( std = 0.00390733527691 )\n",
      "Время: 0:00:26.705028\n",
      "Число деревьев = 120 ; Качество= 0.708249579737 ( std = 0.00391471954278 )\n",
      "Время: 0:00:26.951461\n",
      "Число деревьев = 130 ; Качество= 0.70910206942 ( std = 0.00391527753197 )\n",
      "Время: 0:00:26.934433\n",
      "Число деревьев = 140 ; Качество= 0.709823575074 ( std = 0.0038775881062 )\n",
      "Время: 0:00:27.083255\n",
      "Число деревьев = 150 ; Качество= 0.710588043229 ( std = 0.00389664781675 )\n",
      "Время: 0:00:27.373283\n",
      "Число деревьев = 160 ; Качество= 0.711377503785 ( std = 0.0038212364638 )\n",
      "Время: 0:00:27.514498\n",
      "Число деревьев = 170 ; Качество= 0.711966181738 ( std = 0.00389150046778 )\n",
      "Время: 0:00:27.363435\n",
      "Число деревьев = 180 ; Качество= 0.712648887087 ( std = 0.00396734861382 )\n",
      "Время: 0:00:27.662164\n",
      "Число деревьев = 190 ; Качество= 0.71314613262 ( std = 0.00398157748842 )\n",
      "Время: 0:00:27.875165\n",
      "Число деревьев = 200 ; Качество= 0.713735683541 ( std = 0.00395347954525 )\n",
      "Время: 0:00:27.659408\n",
      "Число деревьев = 210 ; Качество= 0.714264290781 ( std = 0.0039070670266 )\n",
      "Время: 0:00:30.484163\n",
      "Число деревьев = 220 ; Качество= 0.714765699755 ( std = 0.00399975114988 )\n",
      "Время: 0:00:28.094040\n",
      "Число деревьев = 230 ; Качество= 0.715173870456 ( std = 0.00398317266676 )\n",
      "Время: 0:00:27.917160\n",
      "Число деревьев = 240 ; Качество= 0.715543553526 ( std = 0.00399722912623 )\n",
      "Время: 0:00:28.346991\n",
      "Число деревьев = 250 ; Качество= 0.715968486254 ( std = 0.00406079111264 )\n",
      "Время: 0:00:28.423147\n",
      "Число деревьев = 260 ; Качество= 0.716240326693 ( std = 0.00409178029135 )\n",
      "Время: 0:00:28.300986\n",
      "Число деревьев = 270 ; Качество= 0.716560900179 ( std = 0.0040383624869 )\n",
      "Время: 0:00:28.544557\n",
      "Число деревьев = 280 ; Качество= 0.716810626201 ( std = 0.00395595092327 )\n",
      "Время: 0:00:28.624350\n",
      "Число деревьев = 290 ; Качество= 0.717145822684 ( std = 0.00407765587797 )\n",
      "Время: 0:00:28.763164\n",
      "Число деревьев = 300 ; Качество= 0.717367995378 ( std = 0.00401010801618 )\n",
      "Время: 0:00:28.834437\n",
      "Число деревьев = 310 ; Качество= 0.717729018341 ( std = 0.00393614473006 )\n",
      "Время: 0:00:29.059033\n",
      "Число деревьев = 320 ; Качество= 0.717956380126 ( std = 0.00394206867193 )\n",
      "Время: 0:00:30.856931\n",
      "Число деревьев = 330 ; Качество= 0.7181509777 ( std = 0.00397633335896 )\n",
      "Время: 0:00:31.327363\n",
      "Число деревьев = 340 ; Качество= 0.718248239627 ( std = 0.00394754914593 )\n",
      "Время: 0:00:31.253691\n",
      "Число деревьев = 350 ; Качество= 0.718544068548 ( std = 0.00392494730063 )\n",
      "Время: 0:00:31.584308\n",
      "Число деревьев = 360 ; Качество= 0.718756192012 ( std = 0.00384067713829 )\n",
      "Время: 0:00:31.882906\n",
      "Число деревьев = 370 ; Качество= 0.719000514532 ( std = 0.00393515826891 )\n",
      "Время: 0:00:31.527708\n",
      "Число деревьев = 380 ; Качество= 0.719218080409 ( std = 0.00395333903907 )\n",
      "Время: 0:00:31.730332\n",
      "Число деревьев = 390 ; Качество= 0.719415183772 ( std = 0.00401937506224 )\n"
     ]
    }
   ],
   "source": [
    "gbc=[(\"gbc0\", GradientBoostingClassifier(random_state=15837,n_estimators=10,warm_start=True)),\n",
    "    (\"gbc1\", GradientBoostingClassifier(random_state=15837,n_estimators=10,warm_start=True)),\n",
    "    (\"gbc2\", GradientBoostingClassifier(random_state=15837,n_estimators=10,warm_start=True)),\n",
    "    (\"gbc3\", GradientBoostingClassifier(random_state=15837,n_estimators=10,warm_start=True)),\n",
    "    (\"gbc4\", GradientBoostingClassifier(random_state=15837,n_estimators=10,warm_start=True))]\n",
    "for ntrees in range(10,400,10):\n",
    "    start_time = datetime.datetime.now()\n",
    "    error=np.zeros(5)\n",
    "    index=0\n",
    "    for train_index, test_index in kf:\n",
    "        count=0\n",
    "        for lab,gb in gbc:\n",
    "            if index==count: break\n",
    "            count+=1\n",
    "        X_train, X_test = X[train_index,:], X[test_index,:]\n",
    "        y_train, y_test = result[train_index], result[test_index]\n",
    "        gb.fit(X_train,y_train)\n",
    "        y_pred=gb.predict_proba(X_test)[:, 1]\n",
    "        gb.n_estimators+=10\n",
    "        error[index]=roc_auc_score(y_test,y_pred)\n",
    "        index+=1\n",
    "    print 'Время:', datetime.datetime.now() - start_time\n",
    "    print 'Число деревьев =',ntrees,'; Качество=',np.mean(error),'( std =',np.std(error),')'"
   ]
  },
  {
   "cell_type": "markdown",
   "metadata": {},
   "source": [
    "### Логистическая регрессия"
   ]
  },
  {
   "cell_type": "markdown",
   "metadata": {},
   "source": [
    "Нормализуем параметры"
   ]
  },
  {
   "cell_type": "code",
   "execution_count": 8,
   "metadata": {
    "collapsed": true
   },
   "outputs": [],
   "source": [
    "numpyMatrix = X.astype(float)\n",
    "scaler = StandardScaler().fit(numpyMatrix)\n",
    "X_norm = scaler.transform(numpyMatrix)"
   ]
  },
  {
   "cell_type": "markdown",
   "metadata": {},
   "source": [
    "Выберем параметр С"
   ]
  },
  {
   "cell_type": "code",
   "execution_count": 9,
   "metadata": {
    "collapsed": false
   },
   "outputs": [
    {
     "name": "stdout",
     "output_type": "stream",
     "text": [
      "Время: 0:00:02.338357\n",
      "C = 1e-05 ; Качество= 0.695090219411 ( std = 0.00368993016562 )\n",
      "Время: 0:00:03.721846\n",
      "C = 0.0001 ; Качество= 0.711244490876 ( std = 0.00399143691571 )\n",
      "Время: 0:00:06.752859\n",
      "C = 0.001 ; Качество= 0.716188863701 ( std = 0.0042703262083 )\n",
      "Время: 0:00:08.870484\n",
      "C = 0.01 ; Качество= 0.716345032942 ( std = 0.00430835650746 )\n",
      "Время: 0:00:09.619271\n",
      "C = 0.1 ; Качество= 0.716309972403 ( std = 0.00430890057932 )\n",
      "Время: 0:00:09.553372\n",
      "C = 1.0 ; Качество= 0.716305354595 ( std = 0.00430930173302 )\n"
     ]
    }
   ],
   "source": [
    "power=range(-5,1)\n",
    "C_values=np.power(10.,power)\n",
    "for C1 in C_values:\n",
    "    start_time = datetime.datetime.now()\n",
    "    gbc=LogisticRegression(C=C1)\n",
    "    error=np.zeros(5)\n",
    "    index=0\n",
    "    for train_index, test_index in kf:\n",
    "        X_train, X_test = X_norm[train_index,:], X_norm[test_index,:]\n",
    "        y_train, y_test = result[train_index], result[test_index]\n",
    "        gbc.fit(X_train,y_train)\n",
    "        y_pred=gbc.predict_proba(X_test)[:, 1]\n",
    "        error[index]=roc_auc_score(y_test,y_pred)\n",
    "        index+=1\n",
    "    print 'Время:', datetime.datetime.now() - start_time\n",
    "    print 'C =',C1,'; Качество=',np.mean(error),'( std =',np.std(error),')'"
   ]
  },
  {
   "cell_type": "markdown",
   "metadata": {},
   "source": [
    "Наилучшим параметром С из рассмотренных вариантов является 0.01 с качеством (0.716345) превосходящим 40 деревьев градиентного бустинга и значительно быстрее. Логистическая регрессия представляет собой достаточно простую зависимость по сравнению с градиентным бустингом. Поэтому не стоит удивляться, что она работает быстрее. В общем случае, градиентный бустинг может найти достаточно сложные нелинейные зависимости и стоит ожидать для него более высокую точность (при достаточном количестве деревьев - выше 260 в нашем случае).    "
   ]
  },
  {
   "cell_type": "markdown",
   "metadata": {},
   "source": [
    "Теперь удалим одиннадцать категориальных признаков в этой задаче : lobby_type и r1_hero, r2_hero, ..., r5_hero, d1_hero, d2_hero, ..., d5_hero и проверим результат"
   ]
  },
  {
   "cell_type": "code",
   "execution_count": 10,
   "metadata": {
    "collapsed": false
   },
   "outputs": [
    {
     "name": "stdout",
     "output_type": "stream",
     "text": [
      "Время: 0:00:01.934789\n",
      "C = 1e-05 ; Качество= 0.695036700677 ( std = 0.003678256477 )\n",
      "Время: 0:00:03.093336\n",
      "C = 0.0001 ; Качество= 0.711241475924 ( std = 0.00397050638038 )\n",
      "Время: 0:00:06.046785\n",
      "C = 0.001 ; Качество= 0.716236637142 ( std = 0.00428113957158 )\n",
      "Время: 0:00:07.773684\n",
      "C = 0.01 ; Качество= 0.716395315996 ( std = 0.00433440986998 )\n",
      "Время: 0:00:08.270489\n",
      "C = 0.1 ; Качество= 0.716363173642 ( std = 0.00433681267311 )\n",
      "Время: 0:00:08.222556\n",
      "C = 1.0 ; Качество= 0.716358126631 ( std = 0.0043370765197 )\n"
     ]
    }
   ],
   "source": [
    "X=cleaned.drop(['lobby_type','r1_hero','r2_hero','r3_hero','r4_hero','r5_hero','d1_hero','d2_hero','d3_hero','d4_hero','d5_hero'],\n",
    "               axis=1).values\n",
    "numpyMatrix = X.astype(float)\n",
    "scaler = StandardScaler().fit(numpyMatrix)\n",
    "X_norm = scaler.transform(numpyMatrix)\n",
    "power=range(-5,1)\n",
    "C_values=np.power(10.,power)\n",
    "for C1 in C_values:\n",
    "    start_time = datetime.datetime.now()\n",
    "    gbc=LogisticRegression(C=C1)\n",
    "    error=np.zeros(5)\n",
    "    index=0\n",
    "    for train_index, test_index in kf:\n",
    "        X_train, X_test = X_norm[train_index,:], X_norm[test_index,:]\n",
    "        y_train, y_test = result[train_index], result[test_index]\n",
    "        gbc.fit(X_train,y_train)\n",
    "        y_pred=gbc.predict_proba(X_test)[:, 1]\n",
    "        error[index]=roc_auc_score(y_test,y_pred)\n",
    "        index+=1\n",
    "    print 'Время:', datetime.datetime.now() - start_time\n",
    "    print 'C =',C1,'; Качество=',np.mean(error),'( std =',np.std(error),')'"
   ]
  },
  {
   "cell_type": "markdown",
   "metadata": {},
   "source": [
    "Как и в предыдущем случае наилучшим параметром С из рассмотренных вариантов является 0.01. Качество практически не изменилось (отличие в пределах среднего квадратического отклонения) - 0.716395. Это говорит о том, что удаленные параметры практически не использовались в регрессии. "
   ]
  },
  {
   "cell_type": "markdown",
   "metadata": {},
   "source": [
    "Теперь определим количество идентификаторов героев"
   ]
  },
  {
   "cell_type": "code",
   "execution_count": 14,
   "metadata": {
    "collapsed": false
   },
   "outputs": [
    {
     "name": "stdout",
     "output_type": "stream",
     "text": [
      "количество идентификаторов героев = 108\n"
     ]
    }
   ],
   "source": [
    "Heroes=['r1_hero','r2_hero','r3_hero','r4_hero','r5_hero','d1_hero','d2_hero','d3_hero','d4_hero','d5_hero']\n",
    "v=np.unique(cleaned['r1_hero'].values)\n",
    "for col in Heroes:\n",
    "    v1=np.unique(cleaned[col].values)\n",
    "    v=np.append(v,v1)\n",
    "N_Heroes=np.unique(v)\n",
    "print 'количество идентификаторов героев =', N_Heroes.shape[0]"
   ]
  },
  {
   "cell_type": "markdown",
   "metadata": {},
   "source": [
    "Создадим \"мешок слов\" для кодирования информации о героях и проверим результат"
   ]
  },
  {
   "cell_type": "code",
   "execution_count": 15,
   "metadata": {
    "collapsed": false
   },
   "outputs": [
    {
     "name": "stdout",
     "output_type": "stream",
     "text": [
      "Время: 0:00:03.994133\n",
      "C = 1e-05 ; Качество= 0.714815857533 ( std = 0.00417876497459 )\n",
      "Время: 0:00:06.068922\n",
      "C = 0.0001 ; Качество= 0.742735239159 ( std = 0.00459853651442 )\n",
      "Время: 0:00:12.257955\n",
      "C = 0.001 ; Качество= 0.75152913749 ( std = 0.00458063455078 )\n",
      "Время: 0:00:16.534414\n",
      "C = 0.01 ; Качество= 0.751855206622 ( std = 0.00451792566938 )\n",
      "Время: 0:00:16.915783\n",
      "C = 0.1 ; Качество= 0.751816418963 ( std = 0.00449450264044 )\n",
      "Время: 0:00:16.931583\n",
      "C = 1.0 ; Качество= 0.7518101755 ( std = 0.00449138216906 )\n"
     ]
    }
   ],
   "source": [
    "N=max(np.unique(v))\n",
    "X_pick = np.zeros((cleaned.shape[0], N))\n",
    "\n",
    "for i, match_id in enumerate(cleaned.index):\n",
    "    for p in xrange(5):\n",
    "        X_pick[i, cleaned.ix[match_id, 'r%d_hero' % (p+1)]-1] = 1\n",
    "        X_pick[i, cleaned.ix[match_id, 'd%d_hero' % (p+1)]-1] = -1\n",
    "ind=np.max(X_pick,axis=0)-np.min(X_pick,axis=0)>0\n",
    "X_pick_cleaned=X_pick[:,ind]\n",
    "X=np.append(X,X_pick_cleaned,axis=1)\n",
    "\n",
    "numpyMatrix = X.astype(float)\n",
    "scaler = StandardScaler().fit(numpyMatrix)\n",
    "X_norm = scaler.transform(numpyMatrix)\n",
    "power=range(-5,1)\n",
    "C_values=np.power(10.,power)\n",
    "for C1 in C_values:\n",
    "    start_time = datetime.datetime.now()\n",
    "    gbc=LogisticRegression(C=C1)\n",
    "    error=np.zeros(5)\n",
    "    index=0\n",
    "    for train_index, test_index in kf:\n",
    "        X_train, X_test = X_norm[train_index,:], X_norm[test_index,:]\n",
    "        y_train, y_test = result[train_index], result[test_index]\n",
    "        gbc.fit(X_train,y_train)\n",
    "        y_pred=gbc.predict_proba(X_test)[:, 1]\n",
    "        error[index]=roc_auc_score(y_test,y_pred)\n",
    "        index+=1\n",
    "    print 'Время:', datetime.datetime.now() - start_time\n",
    "    print 'C =',C1,'; Качество=',np.mean(error),'( std =',np.std(error),')'"
   ]
  },
  {
   "cell_type": "markdown",
   "metadata": {},
   "source": [
    "Как и в предыдущем случае наилучшим параметром С из рассмотренных вариантов является 0.01. Произошло значительное улучшение качества (0.751855). Изначально категориальные признаки использовались как числовые и регрессия строилась на этих бесполезных значениях. Сейчас же мы использовали признаки больше как индикаторы присутствия либо отсутствия определенных героев и это сильно помогло."
   ]
  },
  {
   "cell_type": "markdown",
   "metadata": {},
   "source": [
    "### Тестовая выборка"
   ]
  },
  {
   "cell_type": "markdown",
   "metadata": {},
   "source": [
    "Теперь мы применим нашу лучшую модель логистической регрессии к тестовой выборке"
   ]
  },
  {
   "cell_type": "code",
   "execution_count": 18,
   "metadata": {
    "collapsed": false
   },
   "outputs": [],
   "source": [
    "features_test = pd.read_csv('./features_test.csv', index_col='match_id')\n",
    "cleaned_test=features_test.fillna(0)\n",
    "X_all_test=cleaned_test.drop(['lobby_type','r1_hero','r2_hero','r3_hero','r4_hero','r5_hero','d1_hero'\n",
    "                              ,'d2_hero','d3_hero','d4_hero','d5_hero'],axis=1).values\n",
    "v=np.unique(cleaned_test['r1_hero'].values)\n",
    "for col in Heroes:\n",
    "    v1=np.unique(cleaned_test[col].values)\n",
    "    v=np.append(v,v1)\n",
    "N=max(np.unique(v))\n",
    "X_pick_test = np.zeros((cleaned_test.shape[0], N))\n",
    "\n",
    "for i, match_id in enumerate(cleaned_test.index):\n",
    "    for p in xrange(5):\n",
    "        X_pick_test[i, cleaned_test.ix[match_id, 'r%d_hero' % (p+1)]-1] = 1\n",
    "        X_pick_test[i, cleaned_test.ix[match_id, 'd%d_hero' % (p+1)]-1] = -1\n",
    "ind=np.max(X_pick_test,axis=0)-np.min(X_pick_test,axis=0)>0\n",
    "X_pick_cleaned_test=X_pick_test[:,ind]\n",
    "X_all_test=np.append(X_all_test,X_pick_cleaned_test,axis=1)\n",
    "\n",
    "numpyMatrix = X_all_test.astype(float)\n",
    "X_norm_test = scaler.transform(numpyMatrix)\n",
    "\n",
    "gbc1=LogisticRegression(C=0.01)\n",
    "gbc1.fit(X_norm,result)\n",
    "y_probLR_test=gbc1.predict_proba(X_norm_test)[:, 1]"
   ]
  },
  {
   "cell_type": "markdown",
   "metadata": {},
   "source": [
    "Проверим, что результаты лежат между 0 и 1 и не все одинаковы"
   ]
  },
  {
   "cell_type": "code",
   "execution_count": 19,
   "metadata": {
    "collapsed": false
   },
   "outputs": [
    {
     "name": "stdout",
     "output_type": "stream",
     "text": [
      "max = 0.996277624036 ; min = 0.00849095194724\n"
     ]
    }
   ],
   "source": [
    "print 'max =', np.max(y_probLR_test),'; min =', np.min(y_probLR_test)"
   ]
  },
  {
   "cell_type": "markdown",
   "metadata": {},
   "source": [
    "Теперь сохраним в .csv файле и отправим в Kaggle на проверку"
   ]
  },
  {
   "cell_type": "code",
   "execution_count": 20,
   "metadata": {
    "collapsed": true
   },
   "outputs": [],
   "source": [
    "pd.DataFrame({\"match_id\": features_test.index, \"radiant_win\": y_probLR_test}).to_csv('Dota2_hw.csv',index=False)"
   ]
  },
  {
   "cell_type": "markdown",
   "metadata": {},
   "source": [
    "И в результате получим качество 0.75526."
   ]
  },
  {
   "cell_type": "code",
   "execution_count": null,
   "metadata": {
    "collapsed": true
   },
   "outputs": [],
   "source": []
  }
 ],
 "metadata": {
  "kernelspec": {
   "display_name": "Python 2",
   "language": "python",
   "name": "python2"
  },
  "language_info": {
   "codemirror_mode": {
    "name": "ipython",
    "version": 2
   },
   "file_extension": ".py",
   "mimetype": "text/x-python",
   "name": "python",
   "nbconvert_exporter": "python",
   "pygments_lexer": "ipython2",
   "version": "2.7.11"
  }
 },
 "nbformat": 4,
 "nbformat_minor": 0
}
