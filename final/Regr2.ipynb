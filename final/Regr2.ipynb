{
 "cells": [
  {
   "cell_type": "code",
   "execution_count": 1,
   "metadata": {
    "collapsed": true
   },
   "outputs": [],
   "source": [
    "import pandas as pd"
   ]
  },
  {
   "cell_type": "code",
   "execution_count": 2,
   "metadata": {
    "collapsed": true
   },
   "outputs": [],
   "source": [
    "import numpy as np"
   ]
  },
  {
   "cell_type": "code",
   "execution_count": 3,
   "metadata": {
    "collapsed": true
   },
   "outputs": [],
   "source": [
    "import os; import re"
   ]
  },
  {
   "cell_type": "code",
   "execution_count": 4,
   "metadata": {
    "collapsed": true
   },
   "outputs": [],
   "source": [
    "from sklearn.ensemble import GradientBoostingClassifier"
   ]
  },
  {
   "cell_type": "code",
   "execution_count": 5,
   "metadata": {
    "collapsed": true
   },
   "outputs": [],
   "source": [
    "from sklearn.cross_validation import KFold"
   ]
  },
  {
   "cell_type": "code",
   "execution_count": 6,
   "metadata": {
    "collapsed": true
   },
   "outputs": [],
   "source": [
    "from sklearn.grid_search import GridSearchCV"
   ]
  },
  {
   "cell_type": "code",
   "execution_count": 7,
   "metadata": {
    "collapsed": true
   },
   "outputs": [],
   "source": [
    "import time\n",
    "import datetime"
   ]
  },
  {
   "cell_type": "code",
   "execution_count": 8,
   "metadata": {
    "collapsed": true
   },
   "outputs": [],
   "source": [
    "from sklearn.linear_model import LogisticRegressionCV"
   ]
  },
  {
   "cell_type": "code",
   "execution_count": 9,
   "metadata": {
    "collapsed": true
   },
   "outputs": [],
   "source": [
    "from sklearn.preprocessing import StandardScaler"
   ]
  },
  {
   "cell_type": "code",
   "execution_count": 30,
   "metadata": {
    "collapsed": true
   },
   "outputs": [],
   "source": [
    "from sklearn.decomposition import PCA"
   ]
  },
  {
   "cell_type": "code",
   "execution_count": 10,
   "metadata": {
    "collapsed": false
   },
   "outputs": [],
   "source": [
    "features = pd.read_csv('./_features/features.csv', index_col='match_id')"
   ]
  },
  {
   "cell_type": "code",
   "execution_count": 11,
   "metadata": {
    "collapsed": false
   },
   "outputs": [],
   "source": [
    "dict_names = os.listdir(\"./_data/data/dictionaries\")"
   ]
  },
  {
   "cell_type": "markdown",
   "metadata": {},
   "source": [
    "###### create dict of dicts with object description"
   ]
  },
  {
   "cell_type": "code",
   "execution_count": 12,
   "metadata": {
    "collapsed": true
   },
   "outputs": [],
   "source": [
    "dicts = dict()\n",
    "for i,d in enumerate(dict_names):\n",
    "    dicts[re.sub(r'(.*)\\.csv',r'\\1',d)] = pd.read_csv('./_data/data/dictionaries/%s' % d)\n",
    "#print dicts"
   ]
  },
  {
   "cell_type": "markdown",
   "metadata": {},
   "source": [
    "###### drop final attributes"
   ]
  },
  {
   "cell_type": "code",
   "execution_count": 13,
   "metadata": {
    "collapsed": false
   },
   "outputs": [],
   "source": [
    "X = features.drop(features.columns[-6:],1)"
   ]
  },
  {
   "cell_type": "markdown",
   "metadata": {},
   "source": [
    "###### found skips"
   ]
  },
  {
   "cell_type": "code",
   "execution_count": 14,
   "metadata": {
    "collapsed": false
   },
   "outputs": [],
   "source": [
    "counts=X.count()"
   ]
  },
  {
   "cell_type": "code",
   "execution_count": 15,
   "metadata": {
    "collapsed": false
   },
   "outputs": [],
   "source": [
    "skips=counts[counts.values < 97230].keys()"
   ]
  },
  {
   "cell_type": "markdown",
   "metadata": {},
   "source": [
    "###### не в каждом матче FB происходит в первые 5 минут, не в каждом матче летучий курьер приобретается одной из команд в первые 5 минут"
   ]
  },
  {
   "cell_type": "code",
   "execution_count": 16,
   "metadata": {
    "collapsed": false
   },
   "outputs": [
    {
     "data": {
      "text/plain": [
       "Index([u'first_blood_time', u'dire_flying_courier_time'], dtype='object')"
      ]
     },
     "execution_count": 16,
     "metadata": {},
     "output_type": "execute_result"
    }
   ],
   "source": [
    "skips[[0,-2]]"
   ]
  },
  {
   "cell_type": "markdown",
   "metadata": {},
   "source": [
    "###### replace na items to ZERO"
   ]
  },
  {
   "cell_type": "code",
   "execution_count": 17,
   "metadata": {
    "collapsed": false
   },
   "outputs": [],
   "source": [
    "X_na = X.fillna(0)"
   ]
  },
  {
   "cell_type": "markdown",
   "metadata": {},
   "source": [
    "###### target var - radiant_win"
   ]
  },
  {
   "cell_type": "code",
   "execution_count": 18,
   "metadata": {
    "collapsed": true
   },
   "outputs": [],
   "source": [
    "y=features.radiant_win"
   ]
  },
  {
   "cell_type": "markdown",
   "metadata": {},
   "source": [
    "###### create cross validator"
   ]
  },
  {
   "cell_type": "code",
   "execution_count": 19,
   "metadata": {
    "collapsed": true
   },
   "outputs": [],
   "source": [
    "cv = KFold(y.size,shuffle=True, n_folds=5)"
   ]
  },
  {
   "cell_type": "code",
   "execution_count": 20,
   "metadata": {
    "collapsed": false
   },
   "outputs": [],
   "source": [
    "sc=StandardScaler()\n",
    "\n",
    "Xs=sc.fit_transform(X_na)"
   ]
  },
  {
   "cell_type": "code",
   "execution_count": 21,
   "metadata": {
    "collapsed": false
   },
   "outputs": [],
   "source": [
    "keys=list(X.keys()[pd.Series(X.keys()).str.contains('hero', na=False)])\n",
    "\n",
    "keys.append('lobby_type')\n",
    "\n",
    "Xdr = X_na.drop(keys,1)"
   ]
  },
  {
   "cell_type": "code",
   "execution_count": 22,
   "metadata": {
    "collapsed": false
   },
   "outputs": [],
   "source": [
    "Xdr2=Xdr.drop(X.keys()[pd.Series(X.keys()).str.contains('first_blood_player', na=False)],1)"
   ]
  },
  {
   "cell_type": "code",
   "execution_count": 23,
   "metadata": {
    "collapsed": false
   },
   "outputs": [],
   "source": [
    "scdr=StandardScaler()\n",
    "\n",
    "Xsdr=scdr.fit_transform(Xdr2)"
   ]
  },
  {
   "cell_type": "code",
   "execution_count": 48,
   "metadata": {
    "collapsed": true
   },
   "outputs": [],
   "source": [
    "est1 = LogisticRegressionCV(Cs=20,cv=cv,scoring='roc_auc',n_jobs=-1)"
   ]
  },
  {
   "cell_type": "code",
   "execution_count": 49,
   "metadata": {
    "collapsed": false
   },
   "outputs": [
    {
     "name": "stdout",
     "output_type": "stream",
     "text": [
      "Time elapsed: 0:00:17.918000\n"
     ]
    }
   ],
   "source": [
    "start_time = datetime.datetime.now()\n",
    "est1.fit(Xsdr,y)\n",
    "print 'Time elapsed:', datetime.datetime.now() - start_time    "
   ]
  },
  {
   "cell_type": "code",
   "execution_count": 50,
   "metadata": {
    "collapsed": false
   },
   "outputs": [
    {
     "data": {
      "text/plain": [
       "0.72075742226010331"
      ]
     },
     "execution_count": 50,
     "metadata": {},
     "output_type": "execute_result"
    }
   ],
   "source": [
    "est1.scores_[1].max()"
   ]
  },
  {
   "cell_type": "code",
   "execution_count": 38,
   "metadata": {
    "collapsed": false
   },
   "outputs": [
    {
     "data": {
      "text/plain": [
       "0.72075651602744528"
      ]
     },
     "execution_count": 38,
     "metadata": {},
     "output_type": "execute_result"
    }
   ],
   "source": [
    "est1.scores_[1].max()"
   ]
  },
  {
   "cell_type": "code",
   "execution_count": null,
   "metadata": {
    "collapsed": false
   },
   "outputs": [],
   "source": []
  },
  {
   "cell_type": "code",
   "execution_count": 24,
   "metadata": {
    "collapsed": true
   },
   "outputs": [],
   "source": [
    "ky=list(X.keys()[pd.Series(X.keys()).str.contains('hero', na=False)])\n",
    "\n",
    "frames = []\n",
    "for i in ky:\n",
    "    frames.append(pd.DataFrame(X[i]).rename(index=str, columns={i: \"hero\"}))\n",
    "\n",
    "all_hero = pd.concat(frames,ignore_index=True)\n",
    "N=all_hero['hero'].unique().size"
   ]
  },
  {
   "cell_type": "code",
   "execution_count": 25,
   "metadata": {
    "collapsed": true
   },
   "outputs": [],
   "source": [
    "N=112"
   ]
  },
  {
   "cell_type": "code",
   "execution_count": 26,
   "metadata": {
    "collapsed": false
   },
   "outputs": [],
   "source": [
    "X_pick = np.zeros((X.shape[0], N))\n",
    "\n",
    "for i, match_id in enumerate(X.index):\n",
    "    for p in xrange(5):\n",
    "        X_pick[i, X.ix[match_id, 'r%d_hero' % (p+1)]-1] = 1\n",
    "        X_pick[i, X.ix[match_id, 'd%d_hero' % (p+1)]-1] = -1"
   ]
  },
  {
   "cell_type": "code",
   "execution_count": 27,
   "metadata": {
    "collapsed": false
   },
   "outputs": [],
   "source": [
    "XX=np.column_stack((Xsdr,X_pick))"
   ]
  },
  {
   "cell_type": "code",
   "execution_count": null,
   "metadata": {
    "collapsed": false
   },
   "outputs": [],
   "source": []
  },
  {
   "cell_type": "code",
   "execution_count": null,
   "metadata": {
    "collapsed": false
   },
   "outputs": [],
   "source": []
  },
  {
   "cell_type": "code",
   "execution_count": 226,
   "metadata": {
    "collapsed": false
   },
   "outputs": [
    {
     "data": {
      "text/plain": [
       "[10, 11, 12, 13, 14, 15, 16, 17, 18, 19, 20]"
      ]
     },
     "execution_count": 226,
     "metadata": {},
     "output_type": "execute_result"
    }
   ],
   "source": [
    "list(range(10,21))"
   ]
  },
  {
   "cell_type": "code",
   "execution_count": 28,
   "metadata": {
    "collapsed": false
   },
   "outputs": [],
   "source": [
    "estD = LogisticRegressionCV(Cs=15,cv=cv,scoring='roc_auc',n_jobs=-1)"
   ]
  },
  {
   "cell_type": "code",
   "execution_count": 29,
   "metadata": {
    "collapsed": false,
    "scrolled": true
   },
   "outputs": [
    {
     "name": "stdout",
     "output_type": "stream",
     "text": [
      "Time elapsed: 0:00:54.073000\n"
     ]
    }
   ],
   "source": [
    "start_time = datetime.datetime.now()\n",
    "estD.fit(XX,y)\n",
    "print 'Time elapsed:', datetime.datetime.now() - start_time    "
   ]
  },
  {
   "cell_type": "code",
   "execution_count": 30,
   "metadata": {
    "collapsed": false
   },
   "outputs": [
    {
     "data": {
      "text/plain": [
       "0.754412342988241"
      ]
     },
     "execution_count": 30,
     "metadata": {},
     "output_type": "execute_result"
    }
   ],
   "source": [
    "estD.scores_[1].max()"
   ]
  },
  {
   "cell_type": "code",
   "execution_count": null,
   "metadata": {
    "collapsed": false
   },
   "outputs": [],
   "source": []
  },
  {
   "cell_type": "code",
   "execution_count": 177,
   "metadata": {
    "collapsed": false
   },
   "outputs": [
    {
     "data": {
      "text/plain": [
       "0.75663728773447603"
      ]
     },
     "execution_count": 177,
     "metadata": {},
     "output_type": "execute_result"
    }
   ],
   "source": [
    "estD.scores_[1].max()"
   ]
  },
  {
   "cell_type": "code",
   "execution_count": 171,
   "metadata": {
    "collapsed": false
   },
   "outputs": [
    {
     "data": {
      "text/plain": [
       "<bound method LogisticRegressionCV.get_params of LogisticRegressionCV(Cs=15, class_weight=None,\n",
       "           cv=sklearn.cross_validation.KFold(n=97230, n_folds=5, shuffle=True, random_state=None),\n",
       "           dual=False, fit_intercept=True, intercept_scaling=1.0,\n",
       "           max_iter=100, multi_class='ovr', n_jobs=-1, penalty='l2',\n",
       "           random_state=None, refit=True, scoring='roc_auc',\n",
       "           solver='lbfgs', tol=0.0001, verbose=0)>"
      ]
     },
     "execution_count": 171,
     "metadata": {},
     "output_type": "execute_result"
    }
   ],
   "source": [
    "est.get_params"
   ]
  },
  {
   "cell_type": "code",
   "execution_count": null,
   "metadata": {
    "collapsed": true
   },
   "outputs": [],
   "source": []
  },
  {
   "cell_type": "code",
   "execution_count": 28,
   "metadata": {
    "collapsed": false
   },
   "outputs": [],
   "source": [
    "est = LogisticRegressionCV(Cs=15,cv=cv,scoring='roc_auc',n_jobs=-1)"
   ]
  },
  {
   "cell_type": "code",
   "execution_count": 29,
   "metadata": {
    "collapsed": false
   },
   "outputs": [
    {
     "name": "stdout",
     "output_type": "stream",
     "text": [
      "Time elapsed: 0:00:19.256000\n"
     ]
    }
   ],
   "source": [
    "start_time = datetime.datetime.now()\n",
    "est.fit(Xs,y)\n",
    "print 'Time elapsed:', datetime.datetime.now() - start_time    "
   ]
  },
  {
   "cell_type": "code",
   "execution_count": 33,
   "metadata": {
    "collapsed": false
   },
   "outputs": [
    {
     "data": {
      "text/plain": [
       "0.7206460881333201"
      ]
     },
     "execution_count": 33,
     "metadata": {},
     "output_type": "execute_result"
    }
   ],
   "source": [
    "est.scores_[1].max()"
   ]
  },
  {
   "cell_type": "code",
   "execution_count": 28,
   "metadata": {
    "collapsed": false,
    "scrolled": false
   },
   "outputs": [
    {
     "data": {
      "text/plain": [
       "(97230L, 112L)"
      ]
     },
     "execution_count": 28,
     "metadata": {},
     "output_type": "execute_result"
    }
   ],
   "source": [
    "X_pick.shape"
   ]
  },
  {
   "cell_type": "code",
   "execution_count": 95,
   "metadata": {
    "collapsed": false
   },
   "outputs": [
    {
     "data": {
      "text/plain": [
       "array([ 0.04079027,  0.08074931,  0.1203152 ,  0.15971658,  0.19880959,\n",
       "        0.2378034 ,  0.27649712,  0.31503064,  0.35344849,  0.39162472,\n",
       "        0.41593185,  0.42990261,  0.44353182,  0.45640762,  0.46917486,\n",
       "        0.48188077,  0.49447547,  0.5070586 ,  0.51959347,  0.53208532,\n",
       "        0.54451215,  0.55681476,  0.56751028,  0.57796498,  0.5880962 ,\n",
       "        0.59765106,  0.60718088,  0.61664377,  0.62608944,  0.63549868,\n",
       "        0.64485528,  0.65419884,  0.66352509,  0.67281533,  0.68201611,\n",
       "        0.69115436,  0.70009723,  0.70854641,  0.7168691 ,  0.72491695,\n",
       "        0.73283184,  0.74062176,  0.74826358,  0.75590125,  0.7635132 ,\n",
       "        0.77109004,  0.77860634,  0.78608603,  0.79355206,  0.80099485,\n",
       "        0.80841933,  0.81523581,  0.82165025,  0.82801829,  0.8332951 ,\n",
       "        0.83829627,  0.84322965,  0.8481287 ,  0.85298991,  0.85772344,\n",
       "        0.86243577,  0.86710539,  0.87177407,  0.87641204,  0.88101395,\n",
       "        0.88558019,  0.88974527,  0.89368719,  0.89738322,  0.90092198,\n",
       "        0.90439698,  0.90763774,  0.91075276,  0.91362218,  0.91628309,\n",
       "        0.91882102,  0.92125817,  0.92361667,  0.92579235,  0.92790732,\n",
       "        0.92997652,  0.93192783,  0.93377854,  0.93560476,  0.93739278,\n",
       "        0.93911765,  0.94071084,  0.94218344,  0.94355003,  0.94486205,\n",
       "        0.94615632,  0.94740487,  0.94862151,  0.9498048 ,  0.95096158,\n",
       "        0.95210438,  0.9532258 ,  0.9543232 ,  0.95534899,  0.95635297,\n",
       "        0.95734077,  0.95826562,  0.95916438,  0.96005823,  0.96092952,\n",
       "        0.96179319,  0.9626435 ,  0.96347772,  0.96430267,  0.96511219,\n",
       "        0.96591723,  0.96671557,  0.96750966,  0.96829961,  0.96908547,\n",
       "        0.96986916,  0.97064594,  0.97141995,  0.97219012,  0.97294772,\n",
       "        0.97369811,  0.97441989,  0.97510483,  0.97576199,  0.97640883,\n",
       "        0.97702396,  0.97761361,  0.97819772,  0.9787583 ,  0.97931599,\n",
       "        0.97986579,  0.98040675,  0.98094297,  0.98146948,  0.98199065,\n",
       "        0.98251026,  0.98302714,  0.98354121,  0.98405143,  0.98455802,\n",
       "        0.98506179,  0.9855643 ,  0.98605844,  0.98654502,  0.98701293,\n",
       "        0.98745364,  0.98788888,  0.98831543,  0.9887298 ,  0.98913299,\n",
       "        0.98953377,  0.98992707,  0.99031487,  0.99069644,  0.99106818,\n",
       "        0.9914366 ,  0.99179197,  0.99214384,  0.99249129,  0.99283387,\n",
       "        0.99316971,  0.99349286,  0.99381286,  0.99412831,  0.99443623,\n",
       "        0.99472872,  0.99501358,  0.9952928 ,  0.99556787,  0.99583683,\n",
       "        0.99609778,  0.99635124,  0.99660147,  0.9968482 ,  0.99707963,\n",
       "        0.99730111,  0.99752087,  0.9977331 ,  0.99793737,  0.99813739])"
      ]
     },
     "execution_count": 95,
     "metadata": {},
     "output_type": "execute_result"
    }
   ],
   "source": [
    "pest = PCA(n_components=180)\n",
    "pest.fit(XX.T)\n",
    "#est.components_\n",
    "disp=pest.explained_variance_ratio_\n",
    "disp.sort()\n",
    "rd=disp[::-1]\n",
    "rd.cumsum()"
   ]
  },
  {
   "cell_type": "code",
   "execution_count": 96,
   "metadata": {
    "collapsed": false
   },
   "outputs": [],
   "source": [
    "pcX=pest.components_"
   ]
  },
  {
   "cell_type": "code",
   "execution_count": 75,
   "metadata": {
    "collapsed": false
   },
   "outputs": [
    {
     "data": {
      "text/plain": [
       "(97230L, 70L)"
      ]
     },
     "execution_count": 75,
     "metadata": {},
     "output_type": "execute_result"
    }
   ],
   "source": [
    "pcX.T.shape"
   ]
  },
  {
   "cell_type": "code",
   "execution_count": 84,
   "metadata": {
    "collapsed": false
   },
   "outputs": [
    {
     "data": {
      "text/plain": [
       "(97230L, 201L)"
      ]
     },
     "execution_count": 84,
     "metadata": {},
     "output_type": "execute_result"
    }
   ],
   "source": [
    "XX.shape"
   ]
  },
  {
   "cell_type": "code",
   "execution_count": null,
   "metadata": {
    "collapsed": true
   },
   "outputs": [],
   "source": []
  },
  {
   "cell_type": "code",
   "execution_count": null,
   "metadata": {
    "collapsed": true
   },
   "outputs": [],
   "source": []
  },
  {
   "cell_type": "code",
   "execution_count": null,
   "metadata": {
    "collapsed": true
   },
   "outputs": [],
   "source": []
  },
  {
   "cell_type": "code",
   "execution_count": null,
   "metadata": {
    "collapsed": true
   },
   "outputs": [],
   "source": []
  },
  {
   "cell_type": "code",
   "execution_count": 127,
   "metadata": {
    "collapsed": false
   },
   "outputs": [
    {
     "data": {
      "text/plain": [
       "['lobby_type',\n",
       " 'r1_hero',\n",
       " 'r2_hero',\n",
       " 'r3_hero',\n",
       " 'r4_hero',\n",
       " 'r5_hero',\n",
       " 'd1_hero',\n",
       " 'd2_hero',\n",
       " 'd3_hero',\n",
       " 'd4_hero',\n",
       " 'd5_hero']"
      ]
     },
     "execution_count": 127,
     "metadata": {},
     "output_type": "execute_result"
    }
   ],
   "source": [
    "keys"
   ]
  },
  {
   "cell_type": "code",
   "execution_count": 190,
   "metadata": {
    "collapsed": true
   },
   "outputs": [],
   "source": [
    "#params_grid={\"n_estimators\":[10,20,30]}"
   ]
  },
  {
   "cell_type": "code",
   "execution_count": 191,
   "metadata": {
    "collapsed": true
   },
   "outputs": [],
   "source": [
    "#gs = GridSearchCV(GradientBoostingClassifier(),param_grid=params_grid,cv=cv,scoring=\"roc_auc\")"
   ]
  },
  {
   "cell_type": "code",
   "execution_count": 193,
   "metadata": {
    "collapsed": false
   },
   "outputs": [],
   "source": [
    "times = pd.DataFrame(columns=['n_estimators','time','score'],index=[10,20,30,60])"
   ]
  },
  {
   "cell_type": "code",
   "execution_count": 194,
   "metadata": {
    "collapsed": false
   },
   "outputs": [
    {
     "data": {
      "text/html": [
       "<div>\n",
       "<table border=\"1\" class=\"dataframe\">\n",
       "  <thead>\n",
       "    <tr style=\"text-align: right;\">\n",
       "      <th></th>\n",
       "      <th>n_estimators</th>\n",
       "      <th>time</th>\n",
       "      <th>score</th>\n",
       "    </tr>\n",
       "  </thead>\n",
       "  <tbody>\n",
       "    <tr>\n",
       "      <th>10</th>\n",
       "      <td>10</td>\n",
       "      <td>63</td>\n",
       "      <td>0.66469</td>\n",
       "    </tr>\n",
       "    <tr>\n",
       "      <th>20</th>\n",
       "      <td>20</td>\n",
       "      <td>126</td>\n",
       "      <td>0.682274</td>\n",
       "    </tr>\n",
       "    <tr>\n",
       "      <th>30</th>\n",
       "      <td>30</td>\n",
       "      <td>184</td>\n",
       "      <td>0.689361</td>\n",
       "    </tr>\n",
       "    <tr>\n",
       "      <th>60</th>\n",
       "      <td>60</td>\n",
       "      <td>505</td>\n",
       "      <td>0.700428</td>\n",
       "    </tr>\n",
       "  </tbody>\n",
       "</table>\n",
       "</div>"
      ],
      "text/plain": [
       "   n_estimators time     score\n",
       "10           10   63   0.66469\n",
       "20           20  126  0.682274\n",
       "30           30  184  0.689361\n",
       "60           60  505  0.700428"
      ]
     },
     "execution_count": 194,
     "metadata": {},
     "output_type": "execute_result"
    }
   ],
   "source": [
    "for n in [10,20,30,60]:\n",
    "    params_grid={\"n_estimators\":[n]}\n",
    "    gs = GridSearchCV(GradientBoostingClassifier(),param_grid=params_grid,cv=cv,scoring=\"roc_auc\")\n",
    "    start_time = datetime.datetime.now()\n",
    "    #times['n_estimators:' + gs.param_grid.values()[0][0]] = \n",
    "    gs.fit(X_na,y)\n",
    "    n_est=gs.param_grid.values()[0][0]\n",
    "    et=(datetime.datetime.now() - start_time).seconds\n",
    "    sc=gs.best_score_\n",
    "    times.loc[n_est] = [n_est,et,sc]\n",
    "\n",
    "#print 'Time elapsed:', datetime.datetime.now() - start_time\n",
    "times"
   ]
  },
  {
   "cell_type": "code",
   "execution_count": 19,
   "metadata": {
    "collapsed": true
   },
   "outputs": [],
   "source": [
    "op_times = pd.DataFrame(columns=['n_estimators','time','score'],index=[10,20,30,60])"
   ]
  },
  {
   "cell_type": "code",
   "execution_count": 35,
   "metadata": {
    "collapsed": false
   },
   "outputs": [
    {
     "data": {
      "text/html": [
       "<div>\n",
       "<table border=\"1\" class=\"dataframe\">\n",
       "  <thead>\n",
       "    <tr style=\"text-align: right;\">\n",
       "      <th></th>\n",
       "      <th>n_estimators</th>\n",
       "      <th>time</th>\n",
       "      <th>score</th>\n",
       "    </tr>\n",
       "  </thead>\n",
       "  <tbody>\n",
       "    <tr>\n",
       "      <th>10</th>\n",
       "      <td>10</td>\n",
       "      <td>46</td>\n",
       "      <td>0.668749</td>\n",
       "    </tr>\n",
       "    <tr>\n",
       "      <th>20</th>\n",
       "      <td>NaN</td>\n",
       "      <td>NaN</td>\n",
       "      <td>NaN</td>\n",
       "    </tr>\n",
       "    <tr>\n",
       "      <th>30</th>\n",
       "      <td>30</td>\n",
       "      <td>122</td>\n",
       "      <td>0.684247</td>\n",
       "    </tr>\n",
       "    <tr>\n",
       "      <th>60</th>\n",
       "      <td>NaN</td>\n",
       "      <td>NaN</td>\n",
       "      <td>NaN</td>\n",
       "    </tr>\n",
       "  </tbody>\n",
       "</table>\n",
       "</div>"
      ],
      "text/plain": [
       "   n_estimators time     score\n",
       "10           10   46  0.668749\n",
       "20          NaN  NaN       NaN\n",
       "30           30  122  0.684247\n",
       "60          NaN  NaN       NaN"
      ]
     },
     "execution_count": 35,
     "metadata": {},
     "output_type": "execute_result"
    }
   ],
   "source": [
    "for n in [10]:\n",
    "    params_grid={\"n_estimators\":[n],'loss':['deviance'],'subsample':[0.2]}\n",
    "    gs = GridSearchCV(GradientBoostingClassifier(),param_grid=params_grid,cv=cv,scoring=\"roc_auc\")\n",
    "    start_time = datetime.datetime.now()\n",
    "    #times['n_estimators:' + gs.param_grid.values()[0][0]] = \n",
    "    gs.fit(X_na,y)\n",
    "    n_est=gs.param_grid.values()[0][0]\n",
    "    et=(datetime.datetime.now() - start_time).seconds\n",
    "    sc=gs.best_score_\n",
    "    \n",
    "    op_times.loc[n_est] = [n_est,et,sc]\n",
    "\n",
    "#print 'Time elapsed:', datetime.datetime.now() - start_time\n",
    "op_times"
   ]
  },
  {
   "cell_type": "code",
   "execution_count": 34,
   "metadata": {
    "collapsed": false
   },
   "outputs": [
    {
     "data": {
      "text/html": [
       "<div>\n",
       "<table border=\"1\" class=\"dataframe\">\n",
       "  <thead>\n",
       "    <tr style=\"text-align: right;\">\n",
       "      <th></th>\n",
       "      <th>n_estimators</th>\n",
       "      <th>time</th>\n",
       "      <th>score</th>\n",
       "    </tr>\n",
       "  </thead>\n",
       "  <tbody>\n",
       "    <tr>\n",
       "      <th>10</th>\n",
       "      <td>10</td>\n",
       "      <td>44</td>\n",
       "      <td>0.670543</td>\n",
       "    </tr>\n",
       "    <tr>\n",
       "      <th>20</th>\n",
       "      <td>NaN</td>\n",
       "      <td>NaN</td>\n",
       "      <td>NaN</td>\n",
       "    </tr>\n",
       "    <tr>\n",
       "      <th>30</th>\n",
       "      <td>30</td>\n",
       "      <td>122</td>\n",
       "      <td>0.684247</td>\n",
       "    </tr>\n",
       "    <tr>\n",
       "      <th>60</th>\n",
       "      <td>NaN</td>\n",
       "      <td>NaN</td>\n",
       "      <td>NaN</td>\n",
       "    </tr>\n",
       "  </tbody>\n",
       "</table>\n",
       "</div>"
      ],
      "text/plain": [
       "   n_estimators time     score\n",
       "10           10   44  0.670543\n",
       "20          NaN  NaN       NaN\n",
       "30           30  122  0.684247\n",
       "60          NaN  NaN       NaN"
      ]
     },
     "execution_count": 34,
     "metadata": {},
     "output_type": "execute_result"
    }
   ],
   "source": [
    "op_times"
   ]
  },
  {
   "cell_type": "code",
   "execution_count": 23,
   "metadata": {
    "collapsed": false
   },
   "outputs": [
    {
     "data": {
      "text/html": [
       "<div>\n",
       "<table border=\"1\" class=\"dataframe\">\n",
       "  <thead>\n",
       "    <tr style=\"text-align: right;\">\n",
       "      <th></th>\n",
       "      <th>n_estimators</th>\n",
       "      <th>time</th>\n",
       "      <th>score</th>\n",
       "    </tr>\n",
       "  </thead>\n",
       "  <tbody>\n",
       "    <tr>\n",
       "      <th>10</th>\n",
       "      <td>NaN</td>\n",
       "      <td>NaN</td>\n",
       "      <td>NaN</td>\n",
       "    </tr>\n",
       "    <tr>\n",
       "      <th>20</th>\n",
       "      <td>NaN</td>\n",
       "      <td>NaN</td>\n",
       "      <td>NaN</td>\n",
       "    </tr>\n",
       "    <tr>\n",
       "      <th>30</th>\n",
       "      <td>30</td>\n",
       "      <td>195</td>\n",
       "      <td>0.690125</td>\n",
       "    </tr>\n",
       "    <tr>\n",
       "      <th>60</th>\n",
       "      <td>NaN</td>\n",
       "      <td>NaN</td>\n",
       "      <td>NaN</td>\n",
       "    </tr>\n",
       "  </tbody>\n",
       "</table>\n",
       "</div>"
      ],
      "text/plain": [
       "   n_estimators time     score\n",
       "10          NaN  NaN       NaN\n",
       "20          NaN  NaN       NaN\n",
       "30           30  195  0.690125\n",
       "60          NaN  NaN       NaN"
      ]
     },
     "execution_count": 23,
     "metadata": {},
     "output_type": "execute_result"
    }
   ],
   "source": [
    "op_times"
   ]
  },
  {
   "cell_type": "code",
   "execution_count": null,
   "metadata": {
    "collapsed": true
   },
   "outputs": [],
   "source": []
  }
 ],
 "metadata": {
  "kernelspec": {
   "display_name": "Python 2",
   "language": "python",
   "name": "python2"
  },
  "language_info": {
   "codemirror_mode": {
    "name": "ipython",
    "version": 2
   },
   "file_extension": ".py",
   "mimetype": "text/x-python",
   "name": "python",
   "nbconvert_exporter": "python",
   "pygments_lexer": "ipython2",
   "version": "2.7.11"
  }
 },
 "nbformat": 4,
 "nbformat_minor": 0
}
