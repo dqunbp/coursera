{
 "cells": [
  {
   "cell_type": "markdown",
   "metadata": {},
   "source": [
    "# Предсказания победителя в онлайн-игре"
   ]
  },
  {
   "cell_type": "markdown",
   "metadata": {},
   "source": [
    "# Gradient Boosting"
   ]
  },
  {
   "cell_type": "code",
   "execution_count": 1,
   "metadata": {
    "collapsed": false
   },
   "outputs": [
    {
     "data": {
      "text/html": [
       "<div>\n",
       "<table border=\"1\" class=\"dataframe\">\n",
       "  <thead>\n",
       "    <tr style=\"text-align: right;\">\n",
       "      <th></th>\n",
       "      <th>start_time</th>\n",
       "      <th>lobby_type</th>\n",
       "      <th>r1_hero</th>\n",
       "      <th>r1_level</th>\n",
       "      <th>r1_xp</th>\n",
       "      <th>r1_gold</th>\n",
       "      <th>r1_lh</th>\n",
       "      <th>r1_kills</th>\n",
       "      <th>r1_deaths</th>\n",
       "      <th>r1_items</th>\n",
       "      <th>...</th>\n",
       "      <th>radiant_ward_sentry_count</th>\n",
       "      <th>radiant_first_ward_time</th>\n",
       "      <th>dire_bottle_time</th>\n",
       "      <th>dire_courier_time</th>\n",
       "      <th>dire_flying_courier_time</th>\n",
       "      <th>dire_tpscroll_count</th>\n",
       "      <th>dire_boots_count</th>\n",
       "      <th>dire_ward_observer_count</th>\n",
       "      <th>dire_ward_sentry_count</th>\n",
       "      <th>dire_first_ward_time</th>\n",
       "    </tr>\n",
       "    <tr>\n",
       "      <th>match_id</th>\n",
       "      <th></th>\n",
       "      <th></th>\n",
       "      <th></th>\n",
       "      <th></th>\n",
       "      <th></th>\n",
       "      <th></th>\n",
       "      <th></th>\n",
       "      <th></th>\n",
       "      <th></th>\n",
       "      <th></th>\n",
       "      <th></th>\n",
       "      <th></th>\n",
       "      <th></th>\n",
       "      <th></th>\n",
       "      <th></th>\n",
       "      <th></th>\n",
       "      <th></th>\n",
       "      <th></th>\n",
       "      <th></th>\n",
       "      <th></th>\n",
       "      <th></th>\n",
       "    </tr>\n",
       "  </thead>\n",
       "  <tbody>\n",
       "    <tr>\n",
       "      <th>0</th>\n",
       "      <td>1430198770</td>\n",
       "      <td>7</td>\n",
       "      <td>11</td>\n",
       "      <td>5</td>\n",
       "      <td>2098</td>\n",
       "      <td>1489</td>\n",
       "      <td>20</td>\n",
       "      <td>0</td>\n",
       "      <td>0</td>\n",
       "      <td>7</td>\n",
       "      <td>...</td>\n",
       "      <td>0</td>\n",
       "      <td>35.0</td>\n",
       "      <td>103.0</td>\n",
       "      <td>-84.0</td>\n",
       "      <td>221.0</td>\n",
       "      <td>3</td>\n",
       "      <td>4</td>\n",
       "      <td>2</td>\n",
       "      <td>2</td>\n",
       "      <td>-52.0</td>\n",
       "    </tr>\n",
       "    <tr>\n",
       "      <th>1</th>\n",
       "      <td>1430220345</td>\n",
       "      <td>0</td>\n",
       "      <td>42</td>\n",
       "      <td>4</td>\n",
       "      <td>1188</td>\n",
       "      <td>1033</td>\n",
       "      <td>9</td>\n",
       "      <td>0</td>\n",
       "      <td>1</td>\n",
       "      <td>12</td>\n",
       "      <td>...</td>\n",
       "      <td>0</td>\n",
       "      <td>-20.0</td>\n",
       "      <td>149.0</td>\n",
       "      <td>-84.0</td>\n",
       "      <td>195.0</td>\n",
       "      <td>5</td>\n",
       "      <td>4</td>\n",
       "      <td>3</td>\n",
       "      <td>1</td>\n",
       "      <td>-5.0</td>\n",
       "    </tr>\n",
       "    <tr>\n",
       "      <th>2</th>\n",
       "      <td>1430227081</td>\n",
       "      <td>7</td>\n",
       "      <td>33</td>\n",
       "      <td>4</td>\n",
       "      <td>1319</td>\n",
       "      <td>1270</td>\n",
       "      <td>22</td>\n",
       "      <td>0</td>\n",
       "      <td>0</td>\n",
       "      <td>12</td>\n",
       "      <td>...</td>\n",
       "      <td>1</td>\n",
       "      <td>-39.0</td>\n",
       "      <td>45.0</td>\n",
       "      <td>-77.0</td>\n",
       "      <td>221.0</td>\n",
       "      <td>3</td>\n",
       "      <td>4</td>\n",
       "      <td>3</td>\n",
       "      <td>1</td>\n",
       "      <td>13.0</td>\n",
       "    </tr>\n",
       "    <tr>\n",
       "      <th>3</th>\n",
       "      <td>1430263531</td>\n",
       "      <td>1</td>\n",
       "      <td>29</td>\n",
       "      <td>4</td>\n",
       "      <td>1779</td>\n",
       "      <td>1056</td>\n",
       "      <td>14</td>\n",
       "      <td>0</td>\n",
       "      <td>0</td>\n",
       "      <td>5</td>\n",
       "      <td>...</td>\n",
       "      <td>0</td>\n",
       "      <td>-30.0</td>\n",
       "      <td>124.0</td>\n",
       "      <td>-80.0</td>\n",
       "      <td>184.0</td>\n",
       "      <td>0</td>\n",
       "      <td>4</td>\n",
       "      <td>2</td>\n",
       "      <td>0</td>\n",
       "      <td>27.0</td>\n",
       "    </tr>\n",
       "    <tr>\n",
       "      <th>4</th>\n",
       "      <td>1430282290</td>\n",
       "      <td>7</td>\n",
       "      <td>13</td>\n",
       "      <td>4</td>\n",
       "      <td>1431</td>\n",
       "      <td>1090</td>\n",
       "      <td>8</td>\n",
       "      <td>1</td>\n",
       "      <td>0</td>\n",
       "      <td>8</td>\n",
       "      <td>...</td>\n",
       "      <td>0</td>\n",
       "      <td>46.0</td>\n",
       "      <td>182.0</td>\n",
       "      <td>-80.0</td>\n",
       "      <td>225.0</td>\n",
       "      <td>6</td>\n",
       "      <td>3</td>\n",
       "      <td>3</td>\n",
       "      <td>0</td>\n",
       "      <td>-16.0</td>\n",
       "    </tr>\n",
       "  </tbody>\n",
       "</table>\n",
       "<p>5 rows × 102 columns</p>\n",
       "</div>"
      ],
      "text/plain": [
       "          start_time  lobby_type  r1_hero  r1_level  r1_xp  r1_gold  r1_lh  \\\n",
       "match_id                                                                     \n",
       "0         1430198770           7       11         5   2098     1489     20   \n",
       "1         1430220345           0       42         4   1188     1033      9   \n",
       "2         1430227081           7       33         4   1319     1270     22   \n",
       "3         1430263531           1       29         4   1779     1056     14   \n",
       "4         1430282290           7       13         4   1431     1090      8   \n",
       "\n",
       "          r1_kills  r1_deaths  r1_items          ...           \\\n",
       "match_id                                         ...            \n",
       "0                0          0         7          ...            \n",
       "1                0          1        12          ...            \n",
       "2                0          0        12          ...            \n",
       "3                0          0         5          ...            \n",
       "4                1          0         8          ...            \n",
       "\n",
       "          radiant_ward_sentry_count  radiant_first_ward_time  \\\n",
       "match_id                                                       \n",
       "0                                 0                     35.0   \n",
       "1                                 0                    -20.0   \n",
       "2                                 1                    -39.0   \n",
       "3                                 0                    -30.0   \n",
       "4                                 0                     46.0   \n",
       "\n",
       "          dire_bottle_time  dire_courier_time  dire_flying_courier_time  \\\n",
       "match_id                                                                  \n",
       "0                    103.0              -84.0                     221.0   \n",
       "1                    149.0              -84.0                     195.0   \n",
       "2                     45.0              -77.0                     221.0   \n",
       "3                    124.0              -80.0                     184.0   \n",
       "4                    182.0              -80.0                     225.0   \n",
       "\n",
       "          dire_tpscroll_count  dire_boots_count  dire_ward_observer_count  \\\n",
       "match_id                                                                    \n",
       "0                           3                 4                         2   \n",
       "1                           5                 4                         3   \n",
       "2                           3                 4                         3   \n",
       "3                           0                 4                         2   \n",
       "4                           6                 3                         3   \n",
       "\n",
       "          dire_ward_sentry_count  dire_first_ward_time  \n",
       "match_id                                                \n",
       "0                              2                 -52.0  \n",
       "1                              1                  -5.0  \n",
       "2                              1                  13.0  \n",
       "3                              0                  27.0  \n",
       "4                              0                 -16.0  \n",
       "\n",
       "[5 rows x 102 columns]"
      ]
     },
     "execution_count": 1,
     "metadata": {},
     "output_type": "execute_result"
    }
   ],
   "source": [
    "import pandas\n",
    "data = pandas.read_csv('./features.csv', index_col='match_id')\n",
    "data_test = pandas.read_csv('./features_test.csv', index_col='match_id')\n",
    "\n",
    "# game result columns\n",
    "features = data.copy()\n",
    "for column in ['duration','radiant_win', 'tower_status_radiant', 'tower_status_dire', 'barracks_status_radiant', 'barracks_status_dire']:\n",
    "    features.drop(column, axis=1, inplace=True)\n",
    "\n",
    "\n",
    "features.head()"
   ]
  },
  {
   "cell_type": "code",
   "execution_count": 2,
   "metadata": {
    "collapsed": false
   },
   "outputs": [
    {
     "name": "stdout",
     "output_type": "stream",
     "text": [
      "first_blood_time = 77677 ~ 20% empty\n",
      "first_blood_team = 77677 ~ 20% empty\n",
      "first_blood_player1 = 77677 ~ 20% empty\n",
      "first_blood_player2 = 53243 ~ 45% empty\n",
      "radiant_bottle_time = 81539 ~ 16% empty\n",
      "radiant_courier_time = 96538 ~ 0% empty\n",
      "radiant_flying_courier_time = 69751 ~ 28% empty\n",
      "radiant_first_ward_time = 95394 ~ 1% empty\n",
      "dire_bottle_time = 81087 ~ 16% empty\n",
      "dire_courier_time = 96554 ~ 0% empty\n",
      "dire_flying_courier_time = 71132 ~ 26% empty\n",
      "dire_first_ward_time = 95404 ~ 1% empty\n"
     ]
    }
   ],
   "source": [
    "for column in features.columns:\n",
    "    filledRowsCount = features[column].count()\n",
    "    if filledRowsCount != len(features):\n",
    "        print column + \" = \" + str(filledRowsCount) + \" ~ \" + str(int(100 / (97230.0 / (97230 - filledRowsCount)))) + \"% empty\"\n",
    "    \n"
   ]
  },
  {
   "cell_type": "code",
   "execution_count": 3,
   "metadata": {
    "collapsed": false
   },
   "outputs": [],
   "source": [
    "features.fillna(value = 0, inplace = True)"
   ]
  },
  {
   "cell_type": "code",
   "execution_count": 4,
   "metadata": {
    "collapsed": false
   },
   "outputs": [],
   "source": [
    "results = data['radiant_win']"
   ]
  },
  {
   "cell_type": "code",
   "execution_count": 5,
   "metadata": {
    "collapsed": false
   },
   "outputs": [
    {
     "name": "stdout",
     "output_type": "stream",
     "text": [
      "The number of boosting stages: 10\n",
      "Score: 0.666303954274\n",
      "Time elapsed: 0:00:23.200000 \n",
      "\n",
      "The number of boosting stages: 20\n",
      "Score: 0.681845396867\n",
      "Time elapsed: 0:00:42.538000 \n",
      "\n",
      "The number of boosting stages: 30\n",
      "Score: 0.689606090825\n",
      "Time elapsed: 0:01:04.341000 \n",
      "\n",
      "The number of boosting stages: 40\n",
      "Score: 0.694587912937\n",
      "Time elapsed: 0:01:28.477000 \n",
      "\n",
      "The number of boosting stages: 50\n",
      "Score: 0.696848871507\n",
      "Time elapsed: 0:01:47.980000 \n",
      "\n"
     ]
    }
   ],
   "source": [
    "import time\n",
    "import datetime\n",
    "import numpy as np\n",
    "from sklearn.cross_validation import KFold, cross_val_score\n",
    "from sklearn.ensemble import GradientBoostingClassifier\n",
    "from sklearn.metrics import roc_curve, auc\n",
    "\n",
    "ns = np.array(range(10, 51, 10))\n",
    "scores = []\n",
    "scores_std = []\n",
    "scores_text = []\n",
    "for n in ns:\n",
    "    print \"The number of boosting stages: \" + str(n)\n",
    "    \n",
    "    start_time = datetime.datetime.now()\n",
    "    \n",
    "    fold = KFold(n=len(features), n_folds=5, shuffle=True)\n",
    "\n",
    "    X = features.as_matrix()\n",
    "    y = results\n",
    "\n",
    "    clf = GradientBoostingClassifier(n_estimators=n, verbose=0)\n",
    "\n",
    "    score_list = cross_val_score(estimator=clf, X=X, y=y, cv=fold, scoring='roc_auc').tolist()\n",
    "\n",
    "    scores.append(np.mean(score_list))\n",
    "    scores_std.append(np.std(score_list))\n",
    "    \n",
    "    scores_text.append(str(n) + \" : \" + str(np.mean(score_list)))\n",
    "    \n",
    "    print 'Score: ' + str(np.mean(score_list))\n",
    "    print 'Time elapsed:', datetime.datetime.now() - start_time, \"\\n\""
   ]
  },
  {
   "cell_type": "code",
   "execution_count": 6,
   "metadata": {
    "collapsed": false
   },
   "outputs": [
    {
     "data": {
      "image/png": "[encoded data removed]",
      "text/plain": [
       "<matplotlib.figure.Figure at 0xdcec748>"
      ]
     },
     "metadata": {},
     "output_type": "display_data"
    }
   ],
   "source": [
    "# Do the plotting\n",
    "import matplotlib.pyplot as plt\n",
    "%matplotlib inline\n",
    "\n",
    "plt.figure(1, figsize=(15, 8))\n",
    "plt.clf()\n",
    "plt.errorbar(ns, scores, np.array(scores_std))\n",
    "plt.title('GradientBoostingClassifier Performance')\n",
    "plt.xlabel('n')\n",
    "plt.ylabel('Prediction rate')\n",
    "plt.axis('tight')\n",
    "plt.show()"
   ]
  },
  {
   "cell_type": "code",
   "execution_count": 7,
   "metadata": {
    "collapsed": false
   },
   "outputs": [
    {
     "name": "stdout",
     "output_type": "stream",
     "text": [
      "Time elapsed: 0:00:10.822000 \n",
      "\n",
      "Minimum predict value = 0.248606637718\n",
      "Maximum predict value = 0.787497900013\n"
     ]
    }
   ],
   "source": [
    "features_test = data_test.copy()\n",
    "\n",
    "#for column in ['lobby_type', 'r1_hero', 'r2_hero', 'r3_hero', 'r4_hero', 'r5_hero', 'd1_hero', 'd2_hero', 'd3_hero', 'd4_hero', 'd5_hero']:\n",
    "#    features_test.drop(column, axis=1, inplace=True)\n",
    "\n",
    "# Replace empty cells with 0\n",
    "features_test.fillna(value = 0, inplace = True)\n",
    "\n",
    "start_time = datetime.datetime.now()\n",
    "\n",
    "X = features.as_matrix()\n",
    "y = results\n",
    "\n",
    "clf = GradientBoostingClassifier(n_estimators=30, verbose=0)\n",
    "clf.fit(X, y)  \n",
    "\n",
    "est_test = clf.predict_proba(features_test)[:,1]\n",
    "\n",
    "print 'Time elapsed:', datetime.datetime.now() - start_time, \"\\n\"\n",
    "\n",
    "print 'Minimum predict value =', np.min(est_test)\n",
    "print 'Maximum predict value =', np.max(est_test)\n"
   ]
  },
  {
   "cell_type": "markdown",
   "metadata": {},
   "source": [
    "# Ответы на вопросы"
   ]
  },
  {
   "cell_type": "markdown",
   "metadata": {},
   "source": [
    "#### 1. Какие признаки имеют пропуски среди своих значений? Что могут означать пропуски в этих признаках (ответьте на этот вопрос для двух любых признаков)?"
   ]
  },
  {
   "cell_type": "markdown",
   "metadata": {
    "collapsed": false
   },
   "source": [
    "##### Следующие столбцы имеют пропуски (имя столбца = количество заполненных значений ~ количество пустых в процентах):\n",
    "\n",
    "first_blood_time = 77677 ~ 20% empty\n",
    "\n",
    "first_blood_team = 77677 ~ 20% empty\n",
    "\n",
    "first_blood_player1 = 77677 ~ 20% empty\n",
    "\n",
    "first_blood_player2 = 53243 ~ 45% empty\n",
    "\n",
    "radiant_bottle_time = 81539 ~ 16% empty\n",
    "\n",
    "radiant_courier_time = 96538 ~ 0% empty\n",
    "\n",
    "radiant_flying_courier_time = 69751 ~ 28% empty\n",
    "\n",
    "radiant_first_ward_time = 95394 ~ 1% empty\n",
    "\n",
    "dire_bottle_time = 81087 ~ 16% empty\n",
    "\n",
    "dire_courier_time = 96554 ~ 0% empty\n",
    "\n",
    "dire_flying_courier_time = 71132 ~ 26% empty\n",
    "\n",
    "dire_first_ward_time = 95404 ~ 1% empty\n",
    "\n",
    "\n",
    "В списке указано количество непустых значений. Они меньше 97230. Затем, процент пропусков. \n",
    "Больше всего пустых значений в столбцах first_blood_player2 и radiant_flying_courier_time. \n",
    "\n",
    "first_blood_player2 сожержит идентификторы игроков причастных к событию \"первая кровь\". При этом, есть столбец first_blood_player1 который тоже относится к тому-же событию, но имеет меньше пустых значений. Значения в столбцах first_blood_player1 и first_blood_player2 могут быть пустые если событие \"первая кровь\" не успело произойти за первые 5 минут. Но в случае, если причиной \"первой крови\" первого игрока не стал один из игроков, значение  first_blood_player2 остается пустым, даже если событие успело произойти.\n",
    "\n",
    "radiant_flying_courier_time - второй столбец с большим количеством пустых значений. Пустые значения означают что предмет \"flying_courier\" не был приобретен в течении первых 5 минут.\n"
   ]
  },
  {
   "cell_type": "markdown",
   "metadata": {},
   "source": [
    "#### 2. Как называется столбец, содержащий целевую переменную?"
   ]
  },
  {
   "cell_type": "markdown",
   "metadata": {},
   "source": [
    "Cтолбец содержащий целевую переменную: radiant_win"
   ]
  },
  {
   "cell_type": "markdown",
   "metadata": {},
   "source": [
    "#### 3. Как долго проводилась кросс-валидация для градиентного бустинга с 30 деревьями? Инструкцию по измерению времени можно найти выше по тексту. Какое качество при этом получилось? "
   ]
  },
  {
   "cell_type": "markdown",
   "metadata": {
    "collapsed": true
   },
   "source": [
    "1 минуту и 4 секунды. Качество: 0.689606090825"
   ]
  },
  {
   "cell_type": "markdown",
   "metadata": {},
   "source": [
    "#### 4. Имеет ли смысл использовать больше 30 деревьев в градиентном бустинге? Что можно сделать, чтобы ускорить его обучение при увеличении количества деревьев? "
   ]
  },
  {
   "cell_type": "markdown",
   "metadata": {
    "collapsed": true
   },
   "source": [
    "Да, имеет смысл. 40 и 50 деревьев увеличивиют качество предсказания. Для ускорения обучения можено уменьшить количество\n",
    "элементов в выборке или ограничить глубину деревьев."
   ]
  },
  {
   "cell_type": "markdown",
   "metadata": {
    "collapsed": true
   },
   "source": [
    "# Логистическая регрессия"
   ]
  },
  {
   "cell_type": "markdown",
   "metadata": {},
   "source": [
    "Линейные методы работают гораздо быстрее композиций деревьев, поэтому кажется разумным воспользоваться именно ими для ускорение анализа данных. Одним из наиболее распространенных методов для классификации является логистическая регрессия. В данном разделе предлгается применить ее к данным, а также попробовать различные манипуляции с признаками."
   ]
  },
  {
   "cell_type": "code",
   "execution_count": 17,
   "metadata": {
    "collapsed": false
   },
   "outputs": [
    {
     "name": "stdout",
     "output_type": "stream",
     "text": [
      "Regularization: 0.1\n",
      "Score: 0.716620526701\n",
      "Time elapsed: 0:00:10.224000 \n",
      "\n",
      "Regularization: 0.2\n",
      "Score: 0.716424881904\n",
      "Time elapsed: 0:00:10.651000 \n",
      "\n",
      "Regularization: 0.3\n",
      "Score: 0.716559105248\n",
      "Time elapsed: 0:00:10.969000 \n",
      "\n",
      "Regularization: 0.4\n",
      "Score: 0.716352780122\n",
      "Time elapsed: 0:00:10.579000 \n",
      "\n",
      "Regularization: 0.5\n",
      "Score: 0.716458370628\n",
      "Time elapsed: 0:00:10.384000 \n",
      "\n",
      "Regularization: 0.6\n",
      "Score: 0.71616741965\n",
      "Time elapsed: 0:00:10.875000 \n",
      "\n",
      "Regularization: 0.7\n",
      "Score: 0.716497994489\n",
      "Time elapsed: 0:00:10.489000 \n",
      "\n",
      "Regularization: 0.8\n",
      "Score: 0.716281760184\n",
      "Time elapsed: 0:00:10.853000 \n",
      "\n",
      "Regularization: 0.9\n",
      "Score: 0.716487132834\n",
      "Time elapsed: 0:00:10.532000 \n",
      "\n",
      "Regularization: 1\n",
      "Score: 0.716399149919\n",
      "Time elapsed: 0:00:10.594000 \n",
      "\n"
     ]
    }
   ],
   "source": [
    "# Logistic Regression\n",
    "import numpy as np\n",
    "from sklearn.cross_validation import KFold, cross_val_score\n",
    "from sklearn.ensemble import GradientBoostingClassifier\n",
    "from sklearn.metrics import roc_curve, auc\n",
    "from sklearn import datasets\n",
    "from sklearn import metrics\n",
    "from sklearn.linear_model import LogisticRegression\n",
    "from sklearn import preprocessing\n",
    "\n",
    "# game result columns\n",
    "features_log = data.copy()\n",
    "for column in ['duration', 'radiant_win', 'tower_status_radiant', 'tower_status_dire', 'barracks_status_radiant', 'barracks_status_dire']:\n",
    "    features_log.drop(column, axis=1, inplace=True)\n",
    "\n",
    "# Replace empty cells with 0\n",
    "features_log.fillna(value = 0, inplace = True)\n",
    "\n",
    "# Apply scale\n",
    "X_log = preprocessing.scale(features_log)\n",
    "y = data['radiant_win']\n",
    "\n",
    "Cs = [0.1, 0.2, 0.3, 0.4, 0.5, 0.6, 0.7, 0.8, 0.9, 1 ]\n",
    "for c in Cs:\n",
    "    print \"Regularization: \" + str(c)\n",
    "    start_time = datetime.datetime.now()\n",
    "    \n",
    "    fold = KFold(n=len(y), n_folds=5, shuffle=True)\n",
    "    \n",
    "    clf = LogisticRegression(C=c, penalty='l2')\n",
    "    \n",
    "    score_list = cross_val_score(estimator=clf, X=X_log, y=y, cv=fold, scoring='roc_auc').tolist()\n",
    "    \n",
    "    print \"Score: \" + str(np.mean(score_list))\n",
    "    print 'Time elapsed:', datetime.datetime.now() - start_time, \"\\n\""
   ]
  },
  {
   "cell_type": "markdown",
   "metadata": {},
   "source": [
    "## Ответы на вопросы"
   ]
  },
  {
   "cell_type": "markdown",
   "metadata": {},
   "source": [
    "#### 1. Какое качество получилось у логистической регрессии над всеми исходными признаками? Как оно соотносится с качеством градиентного бустинга?  Чем можно объяснить эту разницу? Быстрее ли работает логистическая регрессия по сравнению с градиентным бустингом? "
   ]
  },
  {
   "cell_type": "markdown",
   "metadata": {
    "collapsed": false
   },
   "source": [
    "Качество логистической регрессии получилось 0.716620526701 при коэфициенте регуляризации 0.1. Качество логистической регрессии выше чем у градиентного бустинга. Тренировка выполняется заметно быстрее, 10 секунд."
   ]
  },
  {
   "cell_type": "markdown",
   "metadata": {},
   "source": [
    "#### 2. Как влияет на качество логистической регрессии удаление категориальных признаков (укажите новое значение метрики качества)?  Чем можно объяснить это изменение? "
   ]
  },
  {
   "cell_type": "code",
   "execution_count": 11,
   "metadata": {
    "collapsed": false
   },
   "outputs": [
    {
     "name": "stdout",
     "output_type": "stream",
     "text": [
      "Regularization: 0.1\n",
      "Score: 0.716368510382\n",
      "Time elapsed: 0:00:10.880000 \n",
      "\n",
      "Regularization: 0.2\n",
      "Score: 0.716458116029\n",
      "Time elapsed: 0:00:10.727000 \n",
      "\n",
      "Regularization: 0.3\n",
      "Score: 0.71640078642\n",
      "Time elapsed: 0:00:10.754000 \n",
      "\n",
      "Regularization: 0.4\n",
      "Score: 0.716439210582\n",
      "Time elapsed: 0:00:10.605000 \n",
      "\n",
      "Regularization: 0.5\n",
      "Score: 0.716604408194\n",
      "Time elapsed: 0:00:10.869000 \n",
      "\n",
      "Regularization: 0.6\n",
      "Score: 0.716337113288\n",
      "Time elapsed: 0:00:10.931000 \n",
      "\n",
      "Regularization: 0.7\n",
      "Score: 0.716527260437\n",
      "Time elapsed: 0:00:10.726000 \n",
      "\n",
      "Regularization: 0.8\n",
      "Score: 0.716490429115\n",
      "Time elapsed: 0:00:10.620000 \n",
      "\n",
      "Regularization: 0.9\n",
      "Score: 0.716326803845\n",
      "Time elapsed: 0:00:10.504000 \n",
      "\n",
      "Regularization: 1\n",
      "Score: 0.716535719418\n",
      "Time elapsed: 0:00:10.295000 \n",
      "\n"
     ]
    }
   ],
   "source": [
    "features_log = data.copy()\n",
    "for column in ['duration', 'radiant_win', 'tower_status_radiant', 'tower_status_dire', 'barracks_status_radiant', 'barracks_status_dire']:\n",
    "    features_log.drop(column, axis=1, inplace=True)\n",
    "\n",
    "for column in ['lobby_type', 'r1_hero', 'r2_hero', 'r3_hero', 'r4_hero', 'r5_hero', 'd1_hero', 'd2_hero', 'd3_hero', 'd4_hero', 'd5_hero']:\n",
    "    features_log.drop(column, axis=1, inplace=True)\n",
    "     \n",
    "# Replace empty cells with 0\n",
    "features_log.fillna(value = 0, inplace = True)\n",
    "\n",
    "X_log = preprocessing.scale(features_log)\n",
    "\n",
    "for c in Cs:\n",
    "    print \"Regularization: \" + str(c)\n",
    "    start_time = datetime.datetime.now()\n",
    "    \n",
    "    fold = KFold(n=len(y), n_folds=5, shuffle=True)\n",
    "    \n",
    "    clf = LogisticRegression(C=c, penalty='l2')\n",
    "    \n",
    "    score_list = cross_val_score(estimator=clf, X=X_log, y=y, cv=fold, scoring='roc_auc').tolist()\n",
    "    \n",
    "    print \"Score: \" + str(np.mean(score_list))\n",
    "    print 'Time elapsed:', datetime.datetime.now() - start_time, \"\\n\""
   ]
  },
  {
   "cell_type": "markdown",
   "metadata": {},
   "source": [
    "После удаления категориальных признаков, качество модели изменилость незначительно. Новое значение качества 0.716604408194 при С = 0.5. Даные категориальных признаков содержали информацию о том какие игроки принимали участия в играх. От конкретных игроков зависит исход игры. Но они интерпретировались некорректно, поэтому изменеие так мало."
   ]
  },
  {
   "cell_type": "markdown",
   "metadata": {},
   "source": [
    "#### 3. Сколько различных идентификаторов героев существует в данной игре? "
   ]
  },
  {
   "cell_type": "code",
   "execution_count": 12,
   "metadata": {
    "collapsed": false
   },
   "outputs": [
    {
     "name": "stdout",
     "output_type": "stream",
     "text": [
      "108\n"
     ]
    }
   ],
   "source": [
    "unique = pandas.unique(data[[ 'r1_hero', 'r2_hero', 'r3_hero', 'r4_hero', 'r5_hero', 'd1_hero', 'd2_hero', 'd3_hero', 'd4_hero', 'd5_hero']].values.ravel())\n",
    "\n",
    "print len(unique)"
   ]
  },
  {
   "cell_type": "markdown",
   "metadata": {},
   "source": [
    "В играх принимало участие 108 игроков"
   ]
  },
  {
   "cell_type": "markdown",
   "metadata": {},
   "source": [
    "#### 4. Какое получилось качество при добавлении \"мешка слов\" по героям? Улучшилось ли оно по сравнению с предыдущим вариантом? Чем можно это объяснить? "
   ]
  },
  {
   "cell_type": "code",
   "execution_count": 13,
   "metadata": {
    "collapsed": false
   },
   "outputs": [
    {
     "name": "stdout",
     "output_type": "stream",
     "text": [
      "[ 0.  0.  0. -1.  0.  0.  0.  0.  0.  0.  1.  0.  0.  0.  0.  0.  0.  0.\n",
      "  0.  1. -1.  0.  0.  0.  0.  0.  0.  0.  1.  0.  0.  0.  0.  0.  0.  0.\n",
      " -1.  0.  0.  0.  0. -1.  0.  0.  0.  0.  0.  0.  0.  0.  0.  0.  0.  0.\n",
      "  0.  0.  0.  0.  0.  0.  0.  0.  0.  0.  0.  0.  1.  0.  0.  0.  0.  0.\n",
      "  0.  0.  0.  0.  0.  0.  0.  0.  0.  0.  0. -1.  0.  0.  0.  0.  0.  0.\n",
      "  0.  0.  0.  0.  0.  0.  0.  0.  0.  0.  0.  0.  0.  0.  1.  0.  0.  0.\n",
      "  0.  0.  0.  0.]\n"
     ]
    }
   ],
   "source": [
    "X_pick = np.zeros((data.shape[0], max(unique)))\n",
    "\n",
    "for i, match_id in enumerate(data.index):\n",
    "    for p in xrange(5):\n",
    "        X_pick[i, data.ix[match_id, 'r%d_hero' % (p+1)]-1] = 1\n",
    "        X_pick[i, data.ix[match_id, 'd%d_hero' % (p+1)]-1] = -1\n",
    "        \n",
    "print X_pick[0]"
   ]
  },
  {
   "cell_type": "code",
   "execution_count": 14,
   "metadata": {
    "collapsed": false
   },
   "outputs": [
    {
     "name": "stdout",
     "output_type": "stream",
     "text": [
      "Regularization: 0.1\n",
      "Score: 0.751756827665\n",
      "Time elapsed: 0:00:20.883000 \n",
      "\n",
      "Regularization: 0.2\n",
      "Score: 0.751872915489\n",
      "Time elapsed: 0:00:21.797000 \n",
      "\n",
      "Regularization: 0.3\n",
      "Score: 0.751930677599\n",
      "Time elapsed: 0:00:21.299000 \n",
      "\n",
      "Regularization: 0.4\n",
      "Score: 0.751953197203\n",
      "Time elapsed: 0:00:21.287000 \n",
      "\n",
      "Regularization: 0.5\n",
      "Score: 0.751849495988\n",
      "Time elapsed: 0:00:21.621000 \n",
      "\n",
      "Regularization: 0.6\n",
      "Score: 0.751888496705\n",
      "Time elapsed: 0:00:22.116000 \n",
      "\n",
      "Regularization: 0.7\n",
      "Score: 0.751705087347\n",
      "Time elapsed: 0:00:21.048000 \n",
      "\n",
      "Regularization: 0.8\n",
      "Score: 0.751726129408\n",
      "Time elapsed: 0:00:21.727000 \n",
      "\n",
      "Regularization: 0.9\n",
      "Score: 0.752140085013\n",
      "Time elapsed: 0:00:22.321000 \n",
      "\n",
      "Regularization: 1\n",
      "Score: 0.751955829582\n",
      "Time elapsed: 0:00:22.682000 \n",
      "\n"
     ]
    }
   ],
   "source": [
    "# print X.shape\n",
    "# print X_pick.shape\n",
    "commonX = np.hstack((X_log , X_pick))\n",
    "# print commonX.shape\n",
    "\n",
    "for c in Cs:\n",
    "    print \"Regularization: \" + str(c)\n",
    "    start_time = datetime.datetime.now()\n",
    "    \n",
    "    fold = KFold(n=len(y), n_folds=5, shuffle=True)\n",
    "    \n",
    "    clf = LogisticRegression(C=c, penalty='l2')\n",
    "    \n",
    "    score_list = cross_val_score(estimator=clf, X=commonX, y=y, cv=fold, scoring='roc_auc').tolist()\n",
    "    \n",
    "    print \"Score: \" + str(np.mean(score_list))\n",
    "    print 'Time elapsed:', datetime.datetime.now() - start_time, \"\\n\"\n"
   ]
  },
  {
   "cell_type": "markdown",
   "metadata": {},
   "source": [
    "При добавлении \"Мешка слов\" из игроков, качество модели улучшилось. Новое значение: 0.751955829582. Используя \"Мешок слов\" можно точнее обработать участие игроков в играх. Когда исследовались категориальные признаки, не учитавалось то, что одни и теже игроки, могут оказаться в разных комбинациях в столбцах r1_hero .. d5_hero. Используя \"мешок слов\", порядок размещения игроков по столбцам r1_hero .. d5_hero не будет мешать анализировать их участие в играх."
   ]
  },
  {
   "cell_type": "markdown",
   "metadata": {},
   "source": [
    "#### 5. Какое минимальное и максимальное значение прогноза на тестовой выборке получилось у лучшего из алгоритмов?"
   ]
  },
  {
   "cell_type": "code",
   "execution_count": 18,
   "metadata": {
    "collapsed": false
   },
   "outputs": [
    {
     "name": "stdout",
     "output_type": "stream",
     "text": [
      "Time elapsed: 0:00:05.139000 \n",
      "\n",
      "Minimum predict value = 0.00861469378932\n",
      "Maximum predict value = 0.996511654816\n"
     ]
    }
   ],
   "source": [
    "features_test = data_test.copy()\n",
    "\n",
    "for column in ['lobby_type', 'r1_hero', 'r2_hero', 'r3_hero', 'r4_hero', 'r5_hero', 'd1_hero', 'd2_hero', 'd3_hero', 'd4_hero', 'd5_hero']:\n",
    "    features_test.drop(column, axis=1, inplace=True)\n",
    "     \n",
    "# Replace empty cells with 0\n",
    "features_test.fillna(value = 0, inplace = True)\n",
    "\n",
    "X_test = preprocessing.scale(features_test)\n",
    "\n",
    "unique_test = pandas.unique(data_test[[ 'r1_hero', 'r2_hero', 'r3_hero', 'r4_hero', 'r5_hero', 'd1_hero', 'd2_hero', 'd3_hero', 'd4_hero', 'd5_hero']].values.ravel())\n",
    "\n",
    "X_pick_test = np.zeros((data_test.shape[0], max(unique_test)))\n",
    "\n",
    "for i, match_id in enumerate(data_test.index):\n",
    "    for p in xrange(5):\n",
    "        X_pick_test[i, data_test.ix[match_id, 'r%d_hero' % (p+1)]-1] = 1\n",
    "        X_pick_test[i, data_test.ix[match_id, 'd%d_hero' % (p+1)]-1] = -1\n",
    "        \n",
    "commonX_test = np.hstack((X_test , X_pick_test))\n",
    "\n",
    "start_time = datetime.datetime.now()\n",
    "\n",
    "clf = LogisticRegression(C=1, penalty='l2')\n",
    "clf.fit(commonX, y)  \n",
    "\n",
    "est_test = clf.predict_proba(commonX_test)[:,1]\n",
    "\n",
    "print 'Time elapsed:', datetime.datetime.now() - start_time, \"\\n\"\n",
    "\n",
    "print 'Minimum predict value =', np.min(est_test)\n",
    "print 'Maximum predict value =', np.max(est_test)\n"
   ]
  },
  {
   "cell_type": "markdown",
   "metadata": {},
   "source": [
    "Лучшим алгоритмом оказался алгоритм линейной регрессии с \"мешком слов\" для идентификаторов игроков.\n",
    "\n",
    "Максимальное значение прогноза = 0.996\n",
    "Минимальное значение прогноза = 0.009"
   ]
  },
  {
   "cell_type": "code",
   "execution_count": null,
   "metadata": {
    "collapsed": true
   },
   "outputs": [],
   "source": []
  }
 ],
 "metadata": {
  "kernelspec": {
   "display_name": "Python 2",
   "language": "python",
   "name": "python2"
  },
  "language_info": {
   "codemirror_mode": {
    "name": "ipython",
    "version": 2
   },
   "file_extension": ".py",
   "mimetype": "text/x-python",
   "name": "python",
   "nbconvert_exporter": "python",
   "pygments_lexer": "ipython2",
   "version": "2.7.11"
  }
 },
 "nbformat": 4,
 "nbformat_minor": 0
}
